{
 "cells": [
  {
   "cell_type": "code",
   "execution_count": 1,
   "metadata": {},
   "outputs": [],
   "source": [
    "import sympy as sm\n",
    "from sympy import Symbol\n",
    "from sympy.physics.mechanics import dynamicsymbols"
   ]
  },
  {
   "cell_type": "code",
   "execution_count": 2,
   "metadata": {},
   "outputs": [],
   "source": [
    "from sympy.physics.vector import init_vprinting\n",
    "init_vprinting(use_latex=\"mathjax\", pretty_print=False)"
   ]
  },
  {
   "cell_type": "code",
   "execution_count": 3,
   "metadata": {},
   "outputs": [
    {
     "data": {
      "text/latex": [
       "$\\displaystyle \\left( q_{1}, \\  q_{2}, \\  q_{3}, \\  \\dot{q}_{1}, \\  \\ddot{q}_{1}\\right)$"
      ],
      "text/plain": [
       "(q1, q2, q3, q1', q1'')"
      ]
     },
     "execution_count": 3,
     "metadata": {},
     "output_type": "execute_result"
    }
   ],
   "source": [
    "l0,l1,l2 = sm.symbols('l0 l1 l2', real =True)\n",
    "t = Symbol('t')\n",
    "q1, q2, q3 = dynamicsymbols('q1 q2 q3')\n",
    "q1d = dynamicsymbols('q1',1)\n",
    "q2d = dynamicsymbols('q2',1)\n",
    "q3d = dynamicsymbols('q3',1)\n",
    "q1dd = dynamicsymbols('q1',2)\n",
    "q2dd = dynamicsymbols('q2',2)\n",
    "q3dd = dynamicsymbols('q3',2)\n",
    "q1,q2, q3, q1d, q1dd"
   ]
  },
  {
   "cell_type": "code",
   "execution_count": 4,
   "metadata": {},
   "outputs": [
    {
     "data": {
      "text/latex": [
       "$\\displaystyle l_{0} + l_{1} \\sin{\\left(q_{2} \\right)} + l_{2} \\sin{\\left(q_{2} + q_{3} \\right)}$"
      ],
      "text/plain": [
       "l0 + l1*sin(q2) + l2*sin(q2 + q3)"
      ]
     },
     "execution_count": 4,
     "metadata": {},
     "output_type": "execute_result"
    }
   ],
   "source": [
    "x = (l1*sm.cos(q2)+l2*sm.cos(q2+q3))*sm.cos(q1)\n",
    "y = (l1*sm.cos(q2)+l2*sm.cos(q2+q3))*sm.sin(q1)\n",
    "z = l0 + l1*sm.sin(q2) + l2*sm.sin(q2+q3)\n",
    "z"
   ]
  },
  {
   "cell_type": "code",
   "execution_count": 5,
   "metadata": {},
   "outputs": [],
   "source": [
    "endefX = -x + (1 + 0.25*sm.cos(t))\n",
    "endefY = -y + (-0.3*sm.cos(t)+sm.sin(t))\n",
    "endefZ = -z + (1+0.5*sm.sin(t))"
   ]
  },
  {
   "cell_type": "code",
   "execution_count": 6,
   "metadata": {},
   "outputs": [],
   "source": [
    "# get second order form\n",
    "endefXdd = sm.diff(sm.diff(endefX,t),t).expand()\n",
    "endefYdd = sm.diff(sm.diff(endefY,t),t).expand()\n",
    "endefZdd = sm.diff(sm.diff(endefZ,t),t).expand()\n"
   ]
  },
  {
   "cell_type": "code",
   "execution_count": 7,
   "metadata": {},
   "outputs": [
    {
     "data": {
      "text/latex": [
       "$\\displaystyle \\left[\\begin{matrix}l_{1} \\sin{\\left(q_{1} \\right)} \\cos{\\left(q_{2} \\right)} + l_{2} \\sin{\\left(q_{1} \\right)} \\cos{\\left(q_{2} + q_{3} \\right)} & l_{1} \\sin{\\left(q_{2} \\right)} \\cos{\\left(q_{1} \\right)} + l_{2} \\sin{\\left(q_{2} + q_{3} \\right)} \\cos{\\left(q_{1} \\right)} & l_{2} \\sin{\\left(q_{2} + q_{3} \\right)} \\cos{\\left(q_{1} \\right)}\\\\- l_{1} \\cos{\\left(q_{1} \\right)} \\cos{\\left(q_{2} \\right)} - l_{2} \\cos{\\left(q_{2} + q_{3} \\right)} \\cos{\\left(q_{1} \\right)} & l_{1} \\sin{\\left(q_{1} \\right)} \\sin{\\left(q_{2} \\right)} + l_{2} \\sin{\\left(q_{2} + q_{3} \\right)} \\sin{\\left(q_{1} \\right)} & l_{2} \\sin{\\left(q_{2} + q_{3} \\right)} \\sin{\\left(q_{1} \\right)}\\\\0 & - l_{1} \\cos{\\left(q_{2} \\right)} - l_{2} \\cos{\\left(q_{2} + q_{3} \\right)} & - l_{2} \\cos{\\left(q_{2} + q_{3} \\right)}\\end{matrix}\\right]$"
      ],
      "text/plain": [
       "Matrix([\n",
       "[ l1*sin(q1)*cos(q2) + l2*sin(q1)*cos(q2 + q3), l1*sin(q2)*cos(q1) + l2*sin(q2 + q3)*cos(q1), l2*sin(q2 + q3)*cos(q1)],\n",
       "[-l1*cos(q1)*cos(q2) - l2*cos(q2 + q3)*cos(q1), l1*sin(q1)*sin(q2) + l2*sin(q2 + q3)*sin(q1), l2*sin(q2 + q3)*sin(q1)],\n",
       "[                                            0,                -l1*cos(q2) - l2*cos(q2 + q3),        -l2*cos(q2 + q3)]])"
      ]
     },
     "execution_count": 7,
     "metadata": {},
     "output_type": "execute_result"
    }
   ],
   "source": [
    "A11 = endefXdd.coeff(q1dd)\n",
    "A12 = endefXdd.coeff(q2dd)\n",
    "A13 = endefXdd.coeff(q3dd)\n",
    "\n",
    "A21 = endefYdd.coeff(q1dd)\n",
    "A22 = endefYdd.coeff(q2dd)\n",
    "A23 = endefYdd.coeff(q3dd)\n",
    "\n",
    "A31 = endefZdd.coeff(q1dd)\n",
    "A32 = endefZdd.coeff(q2dd)\n",
    "A33 = endefZdd.coeff(q3dd)\n",
    "\n",
    "A = sm.Matrix([[A11, A12, A13], [A21, A22, A23], [A31, A32, A33]])\n",
    "A"
   ]
  },
  {
   "cell_type": "code",
   "execution_count": 15,
   "metadata": {},
   "outputs": [
    {
     "data": {
      "text/latex": [
       "$\\displaystyle \\left[\\begin{matrix}- 2.0 l_{1} \\sin{\\left(q_{1} \\right)} \\sin{\\left(q_{2} \\right)} \\dot{q}_{1} \\dot{q}_{2} + 1.0 l_{1} \\cos{\\left(q_{1} \\right)} \\cos{\\left(q_{2} \\right)} \\dot{q}_{1}^{2} + 1.0 l_{1} \\cos{\\left(q_{1} \\right)} \\cos{\\left(q_{2} \\right)} \\dot{q}_{2}^{2} - 2.0 l_{2} \\sin{\\left(q_{2} + q_{3} \\right)} \\sin{\\left(q_{1} \\right)} \\dot{q}_{1} \\dot{q}_{2} - 2.0 l_{2} \\sin{\\left(q_{2} + q_{3} \\right)} \\sin{\\left(q_{1} \\right)} \\dot{q}_{1} \\dot{q}_{3} + 1.0 l_{2} \\cos{\\left(q_{2} + q_{3} \\right)} \\cos{\\left(q_{1} \\right)} \\dot{q}_{1}^{2} + 1.0 l_{2} \\cos{\\left(q_{2} + q_{3} \\right)} \\cos{\\left(q_{1} \\right)} \\dot{q}_{2}^{2} + 2.0 l_{2} \\cos{\\left(q_{2} + q_{3} \\right)} \\cos{\\left(q_{1} \\right)} \\dot{q}_{2} \\dot{q}_{3} + 1.0 l_{2} \\cos{\\left(q_{2} + q_{3} \\right)} \\cos{\\left(q_{1} \\right)} \\dot{q}_{3}^{2} - 0.25 \\cos{\\left(t \\right)}\\\\1.0 l_{1} \\sin{\\left(q_{1} \\right)} \\cos{\\left(q_{2} \\right)} \\dot{q}_{1}^{2} + 1.0 l_{1} \\sin{\\left(q_{1} \\right)} \\cos{\\left(q_{2} \\right)} \\dot{q}_{2}^{2} + 2.0 l_{1} \\sin{\\left(q_{2} \\right)} \\cos{\\left(q_{1} \\right)} \\dot{q}_{1} \\dot{q}_{2} + 2.0 l_{2} \\sin{\\left(q_{2} + q_{3} \\right)} \\cos{\\left(q_{1} \\right)} \\dot{q}_{1} \\dot{q}_{2} + 2.0 l_{2} \\sin{\\left(q_{2} + q_{3} \\right)} \\cos{\\left(q_{1} \\right)} \\dot{q}_{1} \\dot{q}_{3} + 1.0 l_{2} \\sin{\\left(q_{1} \\right)} \\cos{\\left(q_{2} + q_{3} \\right)} \\dot{q}_{1}^{2} + 1.0 l_{2} \\sin{\\left(q_{1} \\right)} \\cos{\\left(q_{2} + q_{3} \\right)} \\dot{q}_{2}^{2} + 2.0 l_{2} \\sin{\\left(q_{1} \\right)} \\cos{\\left(q_{2} + q_{3} \\right)} \\dot{q}_{2} \\dot{q}_{3} + 1.0 l_{2} \\sin{\\left(q_{1} \\right)} \\cos{\\left(q_{2} + q_{3} \\right)} \\dot{q}_{3}^{2} - 1.0 \\sin{\\left(t \\right)} + 0.3 \\cos{\\left(t \\right)}\\\\- 1.0 l_{1} \\sin{\\left(q_{2} \\right)} \\dot{q}_{2}^{2} - 1.0 l_{2} \\sin{\\left(q_{2} + q_{3} \\right)} \\dot{q}_{2}^{2} - 2.0 l_{2} \\sin{\\left(q_{2} + q_{3} \\right)} \\dot{q}_{2} \\dot{q}_{3} - 1.0 l_{2} \\sin{\\left(q_{2} + q_{3} \\right)} \\dot{q}_{3}^{2} - 0.5 \\sin{\\left(t \\right)}\\end{matrix}\\right]$"
      ],
      "text/plain": [
       "Matrix([\n",
       "[           -2.0*l1*sin(q1)*sin(q2)*q1'*q2' + 1.0*l1*cos(q1)*cos(q2)*q1'**2 + 1.0*l1*cos(q1)*cos(q2)*q2'**2 - 2.0*l2*sin(q2 + q3)*sin(q1)*q1'*q2' - 2.0*l2*sin(q2 + q3)*sin(q1)*q1'*q3' + 1.0*l2*cos(q2 + q3)*cos(q1)*q1'**2 + 1.0*l2*cos(q2 + q3)*cos(q1)*q2'**2 + 2.0*l2*cos(q2 + q3)*cos(q1)*q2'*q3' + 1.0*l2*cos(q2 + q3)*cos(q1)*q3'**2 - 0.25*cos(t)],\n",
       "[1.0*l1*sin(q1)*cos(q2)*q1'**2 + 1.0*l1*sin(q1)*cos(q2)*q2'**2 + 2.0*l1*sin(q2)*cos(q1)*q1'*q2' + 2.0*l2*sin(q2 + q3)*cos(q1)*q1'*q2' + 2.0*l2*sin(q2 + q3)*cos(q1)*q1'*q3' + 1.0*l2*sin(q1)*cos(q2 + q3)*q1'**2 + 1.0*l2*sin(q1)*cos(q2 + q3)*q2'**2 + 2.0*l2*sin(q1)*cos(q2 + q3)*q2'*q3' + 1.0*l2*sin(q1)*cos(q2 + q3)*q3'**2 - 1.0*sin(t) + 0.3*cos(t)],\n",
       "[                                                                                                                                                                                                                              -1.0*l1*sin(q2)*q2'**2 - 1.0*l2*sin(q2 + q3)*q2'**2 - 2.0*l2*sin(q2 + q3)*q2'*q3' - 1.0*l2*sin(q2 + q3)*q3'**2 - 0.5*sin(t)]])"
      ]
     },
     "execution_count": 15,
     "metadata": {},
     "output_type": "execute_result"
    }
   ],
   "source": [
    "b1 = endefXdd - A11*q1dd - A12*q2dd - A13*q3dd\n",
    "b2 = endefYdd - A21*q1dd - A22*q2dd - A23*q3dd\n",
    "b3 = endefZdd - A31*q1dd - A32*q2dd - A33*q3dd\n",
    "b = sm.Matrix([b1.simplify(),b2.simplify(),b3.simplify()])\n",
    "b"
   ]
  },
  {
   "cell_type": "code",
   "execution_count": null,
   "metadata": {},
   "outputs": [],
   "source": []
  }
 ],
 "metadata": {
  "kernelspec": {
   "display_name": "Python 3.8.9 64-bit",
   "language": "python",
   "name": "python3"
  },
  "language_info": {
   "codemirror_mode": {
    "name": "ipython",
    "version": 3
   },
   "file_extension": ".py",
   "mimetype": "text/x-python",
   "name": "python",
   "nbconvert_exporter": "python",
   "pygments_lexer": "ipython3",
   "version": "3.8.9"
  },
  "orig_nbformat": 4,
  "vscode": {
   "interpreter": {
    "hash": "31f2aee4e71d21fbe5cf8b01ff0e069b9275f58929596ceb00d14d90e3e16cd6"
   }
  }
 },
 "nbformat": 4,
 "nbformat_minor": 2
}
