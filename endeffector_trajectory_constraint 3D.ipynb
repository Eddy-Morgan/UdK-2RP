{
 "cells": [
  {
   "cell_type": "code",
   "execution_count": 1,
   "id": "8a6c2997",
   "metadata": {},
   "outputs": [],
   "source": [
    "import sympy as sm\n",
    "from sympy import diff, Symbol, cos\n",
    "from scipy.integrate import solve_ivp,OdeSolver,odeint\n",
    "import numpy as np\n",
    "from sympy.physics.mechanics import dynamicsymbols\n",
    "import math\n",
    "import matplotlib.pyplot as plt"
   ]
  },
  {
   "cell_type": "code",
   "execution_count": 2,
   "id": "b0e1532d",
   "metadata": {},
   "outputs": [],
   "source": [
    "from sympy.physics.vector import init_vprinting\n",
    "init_vprinting(use_latex=\"mathjax\", pretty_print=False)"
   ]
  },
  {
   "cell_type": "code",
   "execution_count": 3,
   "id": "9a63fad1",
   "metadata": {},
   "outputs": [
    {
     "data": {
      "text/latex": [
       "$\\displaystyle \\left( g, \\  m_{1}, \\  m_{2}, \\  l_{1}, \\  l_{2}, \\  \\theta_{1}, \\  \\theta_{2}, \\  \\phi_{1}, \\  \\phi_{2}, \\  \\dot{\\theta}_{1}, \\  \\dot{\\theta}_{2}, \\  \\dot{\\phi}_{1}, \\  \\dot{\\phi}_{2}, \\  \\ddot{\\theta}_{1}, \\  \\ddot{\\theta}_{2}, \\  \\ddot{\\phi}_{1}, \\  \\ddot{\\phi}_{2}, \\  \\tau_{1}, \\  \\tau_{2}, \\  I_{1}, \\  I_{2}\\right)$"
      ],
      "text/plain": [
       "(g, m1, m2, l1, l2, theta1, theta2, phi1, phi2, theta1', theta2', phi1', phi2', theta1'', theta2'', phi1'', phi2'', tau1, tau2, I1, I2)"
      ]
     },
     "execution_count": 3,
     "metadata": {},
     "output_type": "execute_result"
    }
   ],
   "source": [
    "m1, m2, l1, l2, gty ,tau1, tau2, c1, c2, L, I1, I2 = sm.symbols('m1 m2 l1 l2 g tau1 tau2 c1 c2 L I1 I2', real =True)\n",
    "t = Symbol('t')\n",
    "theta1, theta2, phi1, phi2 =  dynamicsymbols('theta1 theta2 phi1 phi2')\n",
    "\n",
    "theta1d = dynamicsymbols('theta1',1)\n",
    "theta2d = dynamicsymbols('theta2',1)\n",
    "phi1d = dynamicsymbols('phi1',1)\n",
    "phi2d = dynamicsymbols('phi2',1)\n",
    "theta1dd = dynamicsymbols('theta1',2)\n",
    "theta2dd = dynamicsymbols('theta2',2)\n",
    "phi1dd = dynamicsymbols('phi1',2)\n",
    "phi2dd = dynamicsymbols('phi2',2)\n",
    "gty, m1, m2, l1, l2, theta1, theta2, phi1, phi2, theta1d, theta2d, phi1d,phi2d, theta1dd, theta2dd, phi1dd,phi2dd, tau1, tau2,I1, I2"
   ]
  },
  {
   "cell_type": "code",
   "execution_count": 4,
   "id": "09f2ea47",
   "metadata": {},
   "outputs": [
    {
     "data": {
      "text/latex": [
       "$\\displaystyle \\left( - l_{1} \\sin{\\left(\\phi_{1} \\right)} \\sin{\\left(\\theta_{1} \\right)} \\dot{\\theta}_{1} + l_{1} \\cos{\\left(\\phi_{1} \\right)} \\cos{\\left(\\theta_{1} \\right)} \\dot{\\phi}_{1}, \\  - l_{1} \\sin{\\left(\\phi_{1} \\right)} \\sin{\\left(\\theta_{1} \\right)} \\dot{\\theta}_{1} + l_{1} \\cos{\\left(\\phi_{1} \\right)} \\cos{\\left(\\theta_{1} \\right)} \\dot{\\phi}_{1} - l_{2} \\sin{\\left(\\phi_{2} \\right)} \\sin{\\left(\\theta_{2} \\right)} \\dot{\\theta}_{2} + l_{2} \\cos{\\left(\\phi_{2} \\right)} \\cos{\\left(\\theta_{2} \\right)} \\dot{\\phi}_{2}, \\  l_{1} \\sin{\\left(\\phi_{1} \\right)} \\cos{\\left(\\theta_{1} \\right)} \\dot{\\theta}_{1} + l_{1} \\sin{\\left(\\theta_{1} \\right)} \\cos{\\left(\\phi_{1} \\right)} \\dot{\\phi}_{1}, \\  l_{1} \\sin{\\left(\\phi_{1} \\right)} \\cos{\\left(\\theta_{1} \\right)} \\dot{\\theta}_{1} + l_{1} \\sin{\\left(\\theta_{1} \\right)} \\cos{\\left(\\phi_{1} \\right)} \\dot{\\phi}_{1} + l_{2} \\sin{\\left(\\phi_{2} \\right)} \\cos{\\left(\\theta_{2} \\right)} \\dot{\\theta}_{2} + l_{2} \\sin{\\left(\\theta_{2} \\right)} \\cos{\\left(\\phi_{2} \\right)} \\dot{\\phi}_{2}, \\  - l_{1} \\sin{\\left(\\phi_{1} \\right)} \\dot{\\phi}_{1}, \\  - l_{1} \\sin{\\left(\\phi_{1} \\right)} \\dot{\\phi}_{1} - l_{2} \\sin{\\left(\\phi_{2} \\right)} \\dot{\\phi}_{2}\\right)$"
      ],
      "text/plain": [
       "(-l1*sin(phi1)*sin(theta1)*theta1' + l1*cos(phi1)*cos(theta1)*phi1', -l1*sin(phi1)*sin(theta1)*theta1' + l1*cos(phi1)*cos(theta1)*phi1' - l2*sin(phi2)*sin(theta2)*theta2' + l2*cos(phi2)*cos(theta2)*phi2', l1*sin(phi1)*cos(theta1)*theta1' + l1*sin(theta1)*cos(phi1)*phi1', l1*sin(phi1)*cos(theta1)*theta1' + l1*sin(theta1)*cos(phi1)*phi1' + l2*sin(phi2)*cos(theta2)*theta2' + l2*sin(theta2)*cos(phi2)*phi2', -l1*sin(phi1)*phi1', -l1*sin(phi1)*phi1' - l2*sin(phi2)*phi2')"
      ]
     },
     "execution_count": 4,
     "metadata": {},
     "output_type": "execute_result"
    }
   ],
   "source": [
    "x1 = l1*sm.cos(theta1)*sm.sin(phi1)\n",
    "y1 = l1*sm.sin(theta1)*sm.sin(phi1)\n",
    "z1 = l1*sm.cos(phi1)\n",
    "\n",
    "x2 = x1 + l2*sm.cos(theta2)*sm.sin(phi2)\n",
    "y2 = y1 + l2*sm.sin(theta2)*sm.sin(phi2)\n",
    "z2 = z1 + l2*cos(phi2 )\n",
    "\n",
    "x1_dot = sm.diff(x1,t)\n",
    "x2_dot = sm.diff(x2,t)\n",
    "y1_dot = sm.diff(y1,t)\n",
    "y2_dot = sm.diff(y2,t)\n",
    "z1_dot = sm.diff(z1,t)\n",
    "z2_dot = sm.diff(z2,t)\n",
    "\n",
    "x1_dot , x2_dot, y1_dot , y2_dot, z1_dot, z2_dot"
   ]
  },
  {
   "cell_type": "markdown",
   "id": "4de0e8b1",
   "metadata": {},
   "source": [
    "# dynamic modeling on manipulator without constraint using lagrange equation"
   ]
  },
  {
   "cell_type": "code",
   "execution_count": 6,
   "id": "9ff5bac2",
   "metadata": {},
   "outputs": [
    {
     "data": {
      "text/latex": [
       "$\\displaystyle \\frac{l_{1}^{2} m_{1} \\sin^{2}{\\left(\\phi_{1} \\right)} \\dot{\\theta}_{1}^{2}}{2} + \\frac{l_{1}^{2} m_{1} \\dot{\\phi}_{1}^{2}}{2} + \\frac{l_{1}^{2} m_{2} \\sin^{2}{\\left(\\phi_{1} \\right)} \\dot{\\theta}_{1}^{2}}{2} + \\frac{l_{1}^{2} m_{2} \\dot{\\phi}_{1}^{2}}{2} - l_{1} l_{2} m_{2} \\sin{\\left(\\theta_{1} - \\theta_{2} \\right)} \\sin{\\left(\\phi_{1} \\right)} \\cos{\\left(\\phi_{2} \\right)} \\dot{\\phi}_{2} \\dot{\\theta}_{1} + l_{1} l_{2} m_{2} \\sin{\\left(\\theta_{1} - \\theta_{2} \\right)} \\sin{\\left(\\phi_{2} \\right)} \\cos{\\left(\\phi_{1} \\right)} \\dot{\\phi}_{1} \\dot{\\theta}_{2} + l_{1} l_{2} m_{2} \\sin{\\left(\\phi_{1} \\right)} \\sin{\\left(\\phi_{2} \\right)} \\cos{\\left(\\theta_{1} - \\theta_{2} \\right)} \\dot{\\theta}_{1} \\dot{\\theta}_{2} + l_{1} l_{2} m_{2} \\sin{\\left(\\phi_{1} \\right)} \\sin{\\left(\\phi_{2} \\right)} \\dot{\\phi}_{1} \\dot{\\phi}_{2} + l_{1} l_{2} m_{2} \\cos{\\left(\\theta_{1} - \\theta_{2} \\right)} \\cos{\\left(\\phi_{1} \\right)} \\cos{\\left(\\phi_{2} \\right)} \\dot{\\phi}_{1} \\dot{\\phi}_{2} + \\frac{l_{2}^{2} m_{2} \\sin^{2}{\\left(\\phi_{2} \\right)} \\dot{\\theta}_{2}^{2}}{2} + \\frac{l_{2}^{2} m_{2} \\dot{\\phi}_{2}^{2}}{2}$"
      ],
      "text/plain": [
       "l1**2*m1*sin(phi1)**2*theta1'**2/2 + l1**2*m1*phi1'**2/2 + l1**2*m2*sin(phi1)**2*theta1'**2/2 + l1**2*m2*phi1'**2/2 - l1*l2*m2*sin(theta1 - theta2)*sin(phi1)*cos(phi2)*phi2'*theta1' + l1*l2*m2*sin(theta1 - theta2)*sin(phi2)*cos(phi1)*phi1'*theta2' + l1*l2*m2*sin(phi1)*sin(phi2)*cos(theta1 - theta2)*theta1'*theta2' + l1*l2*m2*sin(phi1)*sin(phi2)*phi1'*phi2' + l1*l2*m2*cos(theta1 - theta2)*cos(phi1)*cos(phi2)*phi1'*phi2' + l2**2*m2*sin(phi2)**2*theta2'**2/2 + l2**2*m2*phi2'**2/2"
      ]
     },
     "execution_count": 6,
     "metadata": {},
     "output_type": "execute_result"
    }
   ],
   "source": [
    "# kinetic energy\n",
    "ke = (sm.Rational(1/2))*m1*(x1_dot**2)\n",
    "ke += (sm.Rational(1/2))*m1*(y1_dot**2)\n",
    "ke += (sm.Rational(1/2))*m1*(z1_dot**2)\n",
    "ke += (sm.Rational(1/2))*m2*(x2_dot**2)\n",
    "ke += (sm.Rational(1/2))*m2*(y2_dot**2)\n",
    "ke += (sm.Rational(1/2))*m2*(z2_dot**2)\n",
    "sm.simplify(ke)"
   ]
  },
  {
   "cell_type": "code",
   "execution_count": 7,
   "id": "f20e38d2",
   "metadata": {},
   "outputs": [
    {
     "data": {
      "text/latex": [
       "$\\displaystyle g l_{1} m_{1} \\sin{\\left(\\phi_{1} \\right)} \\sin{\\left(\\theta_{1} \\right)} + g l_{1} m_{2} \\sin{\\left(\\phi_{1} \\right)} \\sin{\\left(\\theta_{1} \\right)} + g l_{2} m_{2} \\sin{\\left(\\phi_{2} \\right)} \\sin{\\left(\\theta_{2} \\right)}$"
      ],
      "text/plain": [
       "g*l1*m1*sin(phi1)*sin(theta1) + g*l1*m2*sin(phi1)*sin(theta1) + g*l2*m2*sin(phi2)*sin(theta2)"
      ]
     },
     "execution_count": 7,
     "metadata": {},
     "output_type": "execute_result"
    }
   ],
   "source": [
    "# potential energy\n",
    "pe = m1*gty*y1\n",
    "pe += m2*gty*y2\n",
    "sm.expand(pe)"
   ]
  },
  {
   "cell_type": "code",
   "execution_count": 11,
   "id": "a5706dcf",
   "metadata": {},
   "outputs": [],
   "source": [
    "# the lagrangian equation\n",
    "Ls = ke - pe"
   ]
  },
  {
   "cell_type": "code",
   "execution_count": 28,
   "id": "ec2f4945",
   "metadata": {},
   "outputs": [],
   "source": [
    "LE1 = (sm.diff(sm.diff(Ls,theta1d),t) - sm.diff(Ls,theta1)).expand()\n",
    "LE2 = (sm.diff(sm.diff(Ls,theta1d),t) - sm.diff(Ls,theta2)).expand()\n",
    "LE3 = (sm.diff(sm.diff(Ls,phi1d),t) - sm.diff(Ls,phi1)).expand()\n",
    "LE4 = (sm.diff(sm.diff(Ls,phi2d),t) - sm.diff(Ls,phi2)).expand()"
   ]
  },
  {
   "cell_type": "code",
   "execution_count": 29,
   "id": "04563baa",
   "metadata": {},
   "outputs": [
    {
     "data": {
      "text/latex": [
       "$\\displaystyle \\left[\\begin{matrix}l_{1}^{2} m_{1} \\sin^{2}{\\left(\\phi_{1} \\right)} \\sin^{2}{\\left(\\theta_{1} \\right)} + l_{1}^{2} m_{1} \\sin^{2}{\\left(\\phi_{1} \\right)} \\cos^{2}{\\left(\\theta_{1} \\right)} + l_{1}^{2} m_{2} \\sin^{2}{\\left(\\phi_{1} \\right)} \\sin^{2}{\\left(\\theta_{1} \\right)} + l_{1}^{2} m_{2} \\sin^{2}{\\left(\\phi_{1} \\right)} \\cos^{2}{\\left(\\theta_{1} \\right)} & l_{1} l_{2} m_{2} \\sin{\\left(\\phi_{1} \\right)} \\sin{\\left(\\phi_{2} \\right)} \\sin{\\left(\\theta_{1} \\right)} \\sin{\\left(\\theta_{2} \\right)} + l_{1} l_{2} m_{2} \\sin{\\left(\\phi_{1} \\right)} \\sin{\\left(\\phi_{2} \\right)} \\cos{\\left(\\theta_{1} \\right)} \\cos{\\left(\\theta_{2} \\right)} & 0 & - l_{1} l_{2} m_{2} \\sin{\\left(\\phi_{1} \\right)} \\sin{\\left(\\theta_{1} \\right)} \\cos{\\left(\\phi_{2} \\right)} \\cos{\\left(\\theta_{2} \\right)} + l_{1} l_{2} m_{2} \\sin{\\left(\\phi_{1} \\right)} \\sin{\\left(\\theta_{2} \\right)} \\cos{\\left(\\phi_{2} \\right)} \\cos{\\left(\\theta_{1} \\right)}\\\\l_{1}^{2} m_{1} \\sin^{2}{\\left(\\phi_{1} \\right)} \\sin^{2}{\\left(\\theta_{1} \\right)} + l_{1}^{2} m_{1} \\sin^{2}{\\left(\\phi_{1} \\right)} \\cos^{2}{\\left(\\theta_{1} \\right)} + l_{1}^{2} m_{2} \\sin^{2}{\\left(\\phi_{1} \\right)} \\sin^{2}{\\left(\\theta_{1} \\right)} + l_{1}^{2} m_{2} \\sin^{2}{\\left(\\phi_{1} \\right)} \\cos^{2}{\\left(\\theta_{1} \\right)} & l_{1} l_{2} m_{2} \\sin{\\left(\\phi_{1} \\right)} \\sin{\\left(\\phi_{2} \\right)} \\sin{\\left(\\theta_{1} \\right)} \\sin{\\left(\\theta_{2} \\right)} + l_{1} l_{2} m_{2} \\sin{\\left(\\phi_{1} \\right)} \\sin{\\left(\\phi_{2} \\right)} \\cos{\\left(\\theta_{1} \\right)} \\cos{\\left(\\theta_{2} \\right)} & 0 & - l_{1} l_{2} m_{2} \\sin{\\left(\\phi_{1} \\right)} \\sin{\\left(\\theta_{1} \\right)} \\cos{\\left(\\phi_{2} \\right)} \\cos{\\left(\\theta_{2} \\right)} + l_{1} l_{2} m_{2} \\sin{\\left(\\phi_{1} \\right)} \\sin{\\left(\\theta_{2} \\right)} \\cos{\\left(\\phi_{2} \\right)} \\cos{\\left(\\theta_{1} \\right)}\\\\0 & l_{1} l_{2} m_{2} \\sin{\\left(\\phi_{2} \\right)} \\sin{\\left(\\theta_{1} \\right)} \\cos{\\left(\\phi_{1} \\right)} \\cos{\\left(\\theta_{2} \\right)} - l_{1} l_{2} m_{2} \\sin{\\left(\\phi_{2} \\right)} \\sin{\\left(\\theta_{2} \\right)} \\cos{\\left(\\phi_{1} \\right)} \\cos{\\left(\\theta_{1} \\right)} & l_{1}^{2} m_{1} \\sin^{2}{\\left(\\phi_{1} \\right)} + l_{1}^{2} m_{1} \\sin^{2}{\\left(\\theta_{1} \\right)} \\cos^{2}{\\left(\\phi_{1} \\right)} + l_{1}^{2} m_{1} \\cos^{2}{\\left(\\phi_{1} \\right)} \\cos^{2}{\\left(\\theta_{1} \\right)} + l_{1}^{2} m_{2} \\sin^{2}{\\left(\\phi_{1} \\right)} + l_{1}^{2} m_{2} \\sin^{2}{\\left(\\theta_{1} \\right)} \\cos^{2}{\\left(\\phi_{1} \\right)} + l_{1}^{2} m_{2} \\cos^{2}{\\left(\\phi_{1} \\right)} \\cos^{2}{\\left(\\theta_{1} \\right)} & l_{1} l_{2} m_{2} \\sin{\\left(\\phi_{1} \\right)} \\sin{\\left(\\phi_{2} \\right)} + l_{1} l_{2} m_{2} \\sin{\\left(\\theta_{1} \\right)} \\sin{\\left(\\theta_{2} \\right)} \\cos{\\left(\\phi_{1} \\right)} \\cos{\\left(\\phi_{2} \\right)} + l_{1} l_{2} m_{2} \\cos{\\left(\\phi_{1} \\right)} \\cos{\\left(\\phi_{2} \\right)} \\cos{\\left(\\theta_{1} \\right)} \\cos{\\left(\\theta_{2} \\right)}\\\\- l_{1} l_{2} m_{2} \\sin{\\left(\\phi_{1} \\right)} \\sin{\\left(\\theta_{1} \\right)} \\cos{\\left(\\phi_{2} \\right)} \\cos{\\left(\\theta_{2} \\right)} + l_{1} l_{2} m_{2} \\sin{\\left(\\phi_{1} \\right)} \\sin{\\left(\\theta_{2} \\right)} \\cos{\\left(\\phi_{2} \\right)} \\cos{\\left(\\theta_{1} \\right)} & 0 & l_{1} l_{2} m_{2} \\sin{\\left(\\phi_{1} \\right)} \\sin{\\left(\\phi_{2} \\right)} + l_{1} l_{2} m_{2} \\sin{\\left(\\theta_{1} \\right)} \\sin{\\left(\\theta_{2} \\right)} \\cos{\\left(\\phi_{1} \\right)} \\cos{\\left(\\phi_{2} \\right)} + l_{1} l_{2} m_{2} \\cos{\\left(\\phi_{1} \\right)} \\cos{\\left(\\phi_{2} \\right)} \\cos{\\left(\\theta_{1} \\right)} \\cos{\\left(\\theta_{2} \\right)} & l_{2}^{2} m_{2} \\sin^{2}{\\left(\\phi_{2} \\right)} + l_{2}^{2} m_{2} \\sin^{2}{\\left(\\theta_{2} \\right)} \\cos^{2}{\\left(\\phi_{2} \\right)} + l_{2}^{2} m_{2} \\cos^{2}{\\left(\\phi_{2} \\right)} \\cos^{2}{\\left(\\theta_{2} \\right)}\\end{matrix}\\right]$"
      ],
      "text/plain": [
       "Matrix([\n",
       "[l1**2*m1*sin(phi1)**2*sin(theta1)**2 + l1**2*m1*sin(phi1)**2*cos(theta1)**2 + l1**2*m2*sin(phi1)**2*sin(theta1)**2 + l1**2*m2*sin(phi1)**2*cos(theta1)**2, l1*l2*m2*sin(phi1)*sin(phi2)*sin(theta1)*sin(theta2) + l1*l2*m2*sin(phi1)*sin(phi2)*cos(theta1)*cos(theta2),                                                                                                                                                                                                         0,                               -l1*l2*m2*sin(phi1)*sin(theta1)*cos(phi2)*cos(theta2) + l1*l2*m2*sin(phi1)*sin(theta2)*cos(phi2)*cos(theta1)],\n",
       "[l1**2*m1*sin(phi1)**2*sin(theta1)**2 + l1**2*m1*sin(phi1)**2*cos(theta1)**2 + l1**2*m2*sin(phi1)**2*sin(theta1)**2 + l1**2*m2*sin(phi1)**2*cos(theta1)**2, l1*l2*m2*sin(phi1)*sin(phi2)*sin(theta1)*sin(theta2) + l1*l2*m2*sin(phi1)*sin(phi2)*cos(theta1)*cos(theta2),                                                                                                                                                                                                         0,                               -l1*l2*m2*sin(phi1)*sin(theta1)*cos(phi2)*cos(theta2) + l1*l2*m2*sin(phi1)*sin(theta2)*cos(phi2)*cos(theta1)],\n",
       "[                                                                                                                                                        0, l1*l2*m2*sin(phi2)*sin(theta1)*cos(phi1)*cos(theta2) - l1*l2*m2*sin(phi2)*sin(theta2)*cos(phi1)*cos(theta1), l1**2*m1*sin(phi1)**2 + l1**2*m1*sin(theta1)**2*cos(phi1)**2 + l1**2*m1*cos(phi1)**2*cos(theta1)**2 + l1**2*m2*sin(phi1)**2 + l1**2*m2*sin(theta1)**2*cos(phi1)**2 + l1**2*m2*cos(phi1)**2*cos(theta1)**2, l1*l2*m2*sin(phi1)*sin(phi2) + l1*l2*m2*sin(theta1)*sin(theta2)*cos(phi1)*cos(phi2) + l1*l2*m2*cos(phi1)*cos(phi2)*cos(theta1)*cos(theta2)],\n",
       "[                                             -l1*l2*m2*sin(phi1)*sin(theta1)*cos(phi2)*cos(theta2) + l1*l2*m2*sin(phi1)*sin(theta2)*cos(phi2)*cos(theta1),                                                                                                           0,                                                                l1*l2*m2*sin(phi1)*sin(phi2) + l1*l2*m2*sin(theta1)*sin(theta2)*cos(phi1)*cos(phi2) + l1*l2*m2*cos(phi1)*cos(phi2)*cos(theta1)*cos(theta2),                                        l2**2*m2*sin(phi2)**2 + l2**2*m2*sin(theta2)**2*cos(phi2)**2 + l2**2*m2*cos(phi2)**2*cos(theta2)**2]])"
      ]
     },
     "execution_count": 29,
     "metadata": {},
     "output_type": "execute_result"
    }
   ],
   "source": [
    "#inertia term\n",
    "it11 = LE1.coeff(theta1dd) * theta1dd\n",
    "it12 = LE2.coeff(theta1dd) * theta1dd\n",
    "it13 = LE3.coeff(theta1dd) * theta1dd\n",
    "it14 = LE4.coeff(theta1dd) * theta1dd\n",
    "\n",
    "it21 = LE1.coeff(theta2dd) * theta2dd\n",
    "it22 = LE2.coeff(theta2dd) * theta2dd\n",
    "it23 = LE3.coeff(theta2dd) * theta2dd\n",
    "it24 = LE4.coeff(theta2dd) * theta2dd\n",
    "\n",
    "it31 = LE1.coeff(phi1dd) * phi1dd\n",
    "it32 = LE2.coeff(phi1dd) * phi1dd\n",
    "it33 = LE3.coeff(phi1dd) * phi1dd\n",
    "it34 = LE4.coeff(phi1dd) * phi1dd\n",
    "\n",
    "it41 = LE1.coeff(phi2dd) * phi2dd\n",
    "it42 = LE2.coeff(phi2dd) * phi2dd\n",
    "it43 = LE3.coeff(phi2dd) * phi2dd\n",
    "it44 = LE4.coeff(phi2dd) * phi2dd\n",
    "\n",
    "\n",
    "m11 = LE1.coeff(theta1dd)\n",
    "m12 = LE2.coeff(theta1dd)\n",
    "m13 = LE3.coeff(theta1dd)\n",
    "m14 = LE4.coeff(theta1dd)\n",
    "\n",
    "m21 = LE1.coeff(theta2dd)\n",
    "m22 = LE2.coeff(theta2dd)\n",
    "m23 = LE3.coeff(theta2dd)\n",
    "m24 = LE4.coeff(theta2dd)\n",
    "\n",
    "m31 = LE1.coeff(phi1dd)\n",
    "m32 = LE2.coeff(phi1dd)\n",
    "m33 = LE3.coeff(phi1dd)\n",
    "m34 = LE4.coeff(phi1dd)\n",
    "\n",
    "m41 = LE1.coeff(phi2dd)\n",
    "m42 = LE2.coeff(phi2dd)\n",
    "m43 = LE3.coeff(phi2dd)\n",
    "m44 = LE4.coeff(phi2dd)\n",
    "\n",
    "M = sm.Matrix([[m11, m21, m31, m41], [m12, m22, m32, m42], [m13, m23, m33, m43], [m14, m24, m34, m44]])\n",
    "M"
   ]
  }
 ],
 "metadata": {
  "kernelspec": {
   "display_name": "Python 3 (ipykernel)",
   "language": "python",
   "name": "python3"
  },
  "language_info": {
   "codemirror_mode": {
    "name": "ipython",
    "version": 3
   },
   "file_extension": ".py",
   "mimetype": "text/x-python",
   "name": "python",
   "nbconvert_exporter": "python",
   "pygments_lexer": "ipython3",
   "version": "3.9.6"
  }
 },
 "nbformat": 4,
 "nbformat_minor": 5
}
