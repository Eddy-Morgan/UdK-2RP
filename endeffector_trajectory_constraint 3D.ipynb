{
 "cells": [
  {
   "cell_type": "code",
   "execution_count": 1,
   "id": "8a6c2997",
   "metadata": {},
   "outputs": [],
   "source": [
    "import sympy as sm\n",
    "from sympy import diff, Symbol, cos,diag\n",
    "from scipy.integrate import solve_ivp,OdeSolver,odeint\n",
    "import numpy as np\n",
    "from sympy.physics.mechanics import dynamicsymbols\n",
    "import math\n",
    "import matplotlib.pyplot as plt\n",
    "from itertools import combinations_with_replacement\n",
    "from functools import reduce"
   ]
  },
  {
   "cell_type": "code",
   "execution_count": 2,
   "id": "b0e1532d",
   "metadata": {},
   "outputs": [],
   "source": [
    "from sympy.physics.vector import init_vprinting\n",
    "init_vprinting(use_latex=\"mathjax\", pretty_print=False)"
   ]
  },
  {
   "cell_type": "code",
   "execution_count": 3,
   "id": "9a63fad1",
   "metadata": {},
   "outputs": [
    {
     "data": {
      "text/latex": [
       "$\\displaystyle \\left( g, \\  m_{1}, \\  m_{2}, \\  l_{1}, \\  l_{2}, \\  \\theta_{1}, \\  \\theta_{2}, \\  \\phi_{1}, \\  \\phi_{2}, \\  \\dot{\\theta}_{1}, \\  \\dot{\\theta}_{2}, \\  \\dot{\\phi}_{1}, \\  \\dot{\\phi}_{2}, \\  \\ddot{\\theta}_{1}, \\  \\ddot{\\theta}_{2}, \\  \\ddot{\\phi}_{1}, \\  \\ddot{\\phi}_{2}, \\  \\tau_{1}, \\  \\tau_{2}, \\  \\tau_{3}, \\  \\tau_{4}, \\  I_{1}, \\  I_{2}\\right)$"
      ],
      "text/plain": [
       "(g, m1, m2, l1, l2, theta1, theta2, phi1, phi2, theta1', theta2', phi1', phi2', theta1'', theta2'', phi1'', phi2'', tau1, tau2, tau3, tau4, I1, I2)"
      ]
     },
     "execution_count": 3,
     "metadata": {},
     "output_type": "execute_result"
    }
   ],
   "source": [
    "m1, m2, l1, l2, gty ,tau1, tau2,tau3,tau4, c1, c2, c3, c4, L, I1, I2 = sm.symbols('m1 m2 l1 l2 g tau1 tau2 tau3 tau4 c1 c2 c3 c4 L I1 I2', real =True)\n",
    "t = Symbol('t')\n",
    "theta1, theta2, phi1, phi2 =  dynamicsymbols('theta1 theta2 phi1 phi2')\n",
    "\n",
    "theta1d = dynamicsymbols('theta1',1)\n",
    "theta2d = dynamicsymbols('theta2',1)\n",
    "phi1d = dynamicsymbols('phi1',1)\n",
    "phi2d = dynamicsymbols('phi2',1)\n",
    "theta1dd = dynamicsymbols('theta1',2)\n",
    "theta2dd = dynamicsymbols('theta2',2)\n",
    "phi1dd = dynamicsymbols('phi1',2)\n",
    "phi2dd = dynamicsymbols('phi2',2)\n",
    "gty, m1, m2, l1, l2, theta1, theta2, phi1, phi2, theta1d, theta2d, phi1d,phi2d, theta1dd, theta2dd, phi1dd,phi2dd, tau1, tau2,tau3,tau4, I1, I2"
   ]
  },
  {
   "cell_type": "code",
   "execution_count": 4,
   "id": "09f2ea47",
   "metadata": {},
   "outputs": [
    {
     "data": {
      "text/latex": [
       "$\\displaystyle \\left( - l_{1} \\sin{\\left(\\phi_{1} \\right)} \\sin{\\left(\\theta_{1} \\right)} \\dot{\\theta}_{1} + l_{1} \\cos{\\left(\\phi_{1} \\right)} \\cos{\\left(\\theta_{1} \\right)} \\dot{\\phi}_{1}, \\  - l_{1} \\sin{\\left(\\phi_{1} \\right)} \\sin{\\left(\\theta_{1} \\right)} \\dot{\\theta}_{1} + l_{1} \\cos{\\left(\\phi_{1} \\right)} \\cos{\\left(\\theta_{1} \\right)} \\dot{\\phi}_{1} - l_{2} \\sin{\\left(\\phi_{2} \\right)} \\sin{\\left(\\theta_{2} \\right)} \\dot{\\theta}_{2} + l_{2} \\cos{\\left(\\phi_{2} \\right)} \\cos{\\left(\\theta_{2} \\right)} \\dot{\\phi}_{2}, \\  l_{1} \\sin{\\left(\\phi_{1} \\right)} \\cos{\\left(\\theta_{1} \\right)} \\dot{\\theta}_{1} + l_{1} \\sin{\\left(\\theta_{1} \\right)} \\cos{\\left(\\phi_{1} \\right)} \\dot{\\phi}_{1}, \\  l_{1} \\sin{\\left(\\phi_{1} \\right)} \\cos{\\left(\\theta_{1} \\right)} \\dot{\\theta}_{1} + l_{1} \\sin{\\left(\\theta_{1} \\right)} \\cos{\\left(\\phi_{1} \\right)} \\dot{\\phi}_{1} + l_{2} \\sin{\\left(\\phi_{2} \\right)} \\cos{\\left(\\theta_{2} \\right)} \\dot{\\theta}_{2} + l_{2} \\sin{\\left(\\theta_{2} \\right)} \\cos{\\left(\\phi_{2} \\right)} \\dot{\\phi}_{2}, \\  - l_{1} \\sin{\\left(\\phi_{1} \\right)} \\dot{\\phi}_{1}, \\  - l_{1} \\sin{\\left(\\phi_{1} \\right)} \\dot{\\phi}_{1} - l_{2} \\sin{\\left(\\phi_{2} \\right)} \\dot{\\phi}_{2}\\right)$"
      ],
      "text/plain": [
       "(-l1*sin(phi1)*sin(theta1)*theta1' + l1*cos(phi1)*cos(theta1)*phi1', -l1*sin(phi1)*sin(theta1)*theta1' + l1*cos(phi1)*cos(theta1)*phi1' - l2*sin(phi2)*sin(theta2)*theta2' + l2*cos(phi2)*cos(theta2)*phi2', l1*sin(phi1)*cos(theta1)*theta1' + l1*sin(theta1)*cos(phi1)*phi1', l1*sin(phi1)*cos(theta1)*theta1' + l1*sin(theta1)*cos(phi1)*phi1' + l2*sin(phi2)*cos(theta2)*theta2' + l2*sin(theta2)*cos(phi2)*phi2', -l1*sin(phi1)*phi1', -l1*sin(phi1)*phi1' - l2*sin(phi2)*phi2')"
      ]
     },
     "execution_count": 4,
     "metadata": {},
     "output_type": "execute_result"
    }
   ],
   "source": [
    "x1 = l1*sm.cos(theta1)*sm.sin(phi1)\n",
    "y1 = l1*sm.sin(theta1)*sm.sin(phi1)\n",
    "z1 = l1*sm.cos(phi1)\n",
    "\n",
    "x2 = x1 + l2*sm.cos(theta2)*sm.sin(phi2)\n",
    "y2 = y1 + l2*sm.sin(theta2)*sm.sin(phi2)\n",
    "z2 = z1 + l2*cos(phi2 )\n",
    "\n",
    "x1_dot = sm.diff(x1,t)\n",
    "x2_dot = sm.diff(x2,t)\n",
    "y1_dot = sm.diff(y1,t)\n",
    "y2_dot = sm.diff(y2,t)\n",
    "z1_dot = sm.diff(z1,t)\n",
    "z2_dot = sm.diff(z2,t)\n",
    "\n",
    "x1_dot , x2_dot, y1_dot , y2_dot, z1_dot, z2_dot"
   ]
  },
  {
   "cell_type": "markdown",
   "id": "4de0e8b1",
   "metadata": {},
   "source": [
    "# dynamic modeling on manipulator without constraint using lagrange equation"
   ]
  },
  {
   "cell_type": "code",
   "execution_count": 5,
   "id": "9ff5bac2",
   "metadata": {},
   "outputs": [
    {
     "data": {
      "text/latex": [
       "$\\displaystyle \\frac{l_{1}^{2} m_{1} \\sin^{2}{\\left(\\phi_{1} \\right)} \\dot{\\theta}_{1}^{2}}{2} + \\frac{l_{1}^{2} m_{1} \\dot{\\phi}_{1}^{2}}{2} + \\frac{l_{1}^{2} m_{2} \\sin^{2}{\\left(\\phi_{1} \\right)} \\dot{\\theta}_{1}^{2}}{2} + \\frac{l_{1}^{2} m_{2} \\dot{\\phi}_{1}^{2}}{2} - l_{1} l_{2} m_{2} \\sin{\\left(\\theta_{1} - \\theta_{2} \\right)} \\sin{\\left(\\phi_{1} \\right)} \\cos{\\left(\\phi_{2} \\right)} \\dot{\\phi}_{2} \\dot{\\theta}_{1} + l_{1} l_{2} m_{2} \\sin{\\left(\\theta_{1} - \\theta_{2} \\right)} \\sin{\\left(\\phi_{2} \\right)} \\cos{\\left(\\phi_{1} \\right)} \\dot{\\phi}_{1} \\dot{\\theta}_{2} + l_{1} l_{2} m_{2} \\sin{\\left(\\phi_{1} \\right)} \\sin{\\left(\\phi_{2} \\right)} \\cos{\\left(\\theta_{1} - \\theta_{2} \\right)} \\dot{\\theta}_{1} \\dot{\\theta}_{2} + l_{1} l_{2} m_{2} \\sin{\\left(\\phi_{1} \\right)} \\sin{\\left(\\phi_{2} \\right)} \\dot{\\phi}_{1} \\dot{\\phi}_{2} + l_{1} l_{2} m_{2} \\cos{\\left(\\theta_{1} - \\theta_{2} \\right)} \\cos{\\left(\\phi_{1} \\right)} \\cos{\\left(\\phi_{2} \\right)} \\dot{\\phi}_{1} \\dot{\\phi}_{2} + \\frac{l_{2}^{2} m_{2} \\sin^{2}{\\left(\\phi_{2} \\right)} \\dot{\\theta}_{2}^{2}}{2} + \\frac{l_{2}^{2} m_{2} \\dot{\\phi}_{2}^{2}}{2}$"
      ],
      "text/plain": [
       "l1**2*m1*sin(phi1)**2*theta1'**2/2 + l1**2*m1*phi1'**2/2 + l1**2*m2*sin(phi1)**2*theta1'**2/2 + l1**2*m2*phi1'**2/2 - l1*l2*m2*sin(theta1 - theta2)*sin(phi1)*cos(phi2)*phi2'*theta1' + l1*l2*m2*sin(theta1 - theta2)*sin(phi2)*cos(phi1)*phi1'*theta2' + l1*l2*m2*sin(phi1)*sin(phi2)*cos(theta1 - theta2)*theta1'*theta2' + l1*l2*m2*sin(phi1)*sin(phi2)*phi1'*phi2' + l1*l2*m2*cos(theta1 - theta2)*cos(phi1)*cos(phi2)*phi1'*phi2' + l2**2*m2*sin(phi2)**2*theta2'**2/2 + l2**2*m2*phi2'**2/2"
      ]
     },
     "execution_count": 5,
     "metadata": {},
     "output_type": "execute_result"
    }
   ],
   "source": [
    "# kinetic energy\n",
    "ke = (sm.Rational(1/2))*m1*(x1_dot**2)\n",
    "ke += (sm.Rational(1/2))*m1*(y1_dot**2)\n",
    "ke += (sm.Rational(1/2))*m1*(z1_dot**2)\n",
    "ke += (sm.Rational(1/2))*m2*(x2_dot**2)\n",
    "ke += (sm.Rational(1/2))*m2*(y2_dot**2)\n",
    "ke += (sm.Rational(1/2))*m2*(z2_dot**2)\n",
    "sm.simplify(ke)"
   ]
  },
  {
   "cell_type": "code",
   "execution_count": 6,
   "id": "f20e38d2",
   "metadata": {},
   "outputs": [
    {
     "data": {
      "text/latex": [
       "$\\displaystyle g l_{1} m_{1} \\sin{\\left(\\phi_{1} \\right)} \\sin{\\left(\\theta_{1} \\right)} + g l_{1} m_{2} \\sin{\\left(\\phi_{1} \\right)} \\sin{\\left(\\theta_{1} \\right)} + g l_{2} m_{2} \\sin{\\left(\\phi_{2} \\right)} \\sin{\\left(\\theta_{2} \\right)}$"
      ],
      "text/plain": [
       "g*l1*m1*sin(phi1)*sin(theta1) + g*l1*m2*sin(phi1)*sin(theta1) + g*l2*m2*sin(phi2)*sin(theta2)"
      ]
     },
     "execution_count": 6,
     "metadata": {},
     "output_type": "execute_result"
    }
   ],
   "source": [
    "# potential energy\n",
    "pe = m1*gty*y1\n",
    "pe += m2*gty*y2\n",
    "sm.expand(pe)"
   ]
  },
  {
   "cell_type": "code",
   "execution_count": 7,
   "id": "a5706dcf",
   "metadata": {},
   "outputs": [],
   "source": [
    "# the lagrangian equation\n",
    "Ls = ke - pe"
   ]
  },
  {
   "cell_type": "code",
   "execution_count": 8,
   "id": "ec2f4945",
   "metadata": {},
   "outputs": [],
   "source": [
    "f1 = (sm.diff(sm.diff(Ls,theta1d),t) - sm.diff(Ls,theta1)).expand()\n",
    "f2 = (sm.diff(sm.diff(Ls,theta1d),t) - sm.diff(Ls,theta2)).expand()\n",
    "f3 = (sm.diff(sm.diff(Ls,phi1d),t) - sm.diff(Ls,phi1)).expand()\n",
    "f4 = (sm.diff(sm.diff(Ls,phi2d),t) - sm.diff(Ls,phi2)).expand()"
   ]
  },
  {
   "cell_type": "code",
   "execution_count": 9,
   "id": "04563baa",
   "metadata": {},
   "outputs": [
    {
     "data": {
      "text/latex": [
       "$\\displaystyle \\left[\\begin{matrix}l_{1}^{2} m_{1} \\sin^{2}{\\left(\\phi_{1} \\right)} \\sin^{2}{\\left(\\theta_{1} \\right)} + l_{1}^{2} m_{1} \\sin^{2}{\\left(\\phi_{1} \\right)} \\cos^{2}{\\left(\\theta_{1} \\right)} + l_{1}^{2} m_{2} \\sin^{2}{\\left(\\phi_{1} \\right)} \\sin^{2}{\\left(\\theta_{1} \\right)} + l_{1}^{2} m_{2} \\sin^{2}{\\left(\\phi_{1} \\right)} \\cos^{2}{\\left(\\theta_{1} \\right)} & l_{1} l_{2} m_{2} \\sin{\\left(\\phi_{1} \\right)} \\sin{\\left(\\phi_{2} \\right)} \\sin{\\left(\\theta_{1} \\right)} \\sin{\\left(\\theta_{2} \\right)} + l_{1} l_{2} m_{2} \\sin{\\left(\\phi_{1} \\right)} \\sin{\\left(\\phi_{2} \\right)} \\cos{\\left(\\theta_{1} \\right)} \\cos{\\left(\\theta_{2} \\right)} & 0 & - l_{1} l_{2} m_{2} \\sin{\\left(\\phi_{1} \\right)} \\sin{\\left(\\theta_{1} \\right)} \\cos{\\left(\\phi_{2} \\right)} \\cos{\\left(\\theta_{2} \\right)} + l_{1} l_{2} m_{2} \\sin{\\left(\\phi_{1} \\right)} \\sin{\\left(\\theta_{2} \\right)} \\cos{\\left(\\phi_{2} \\right)} \\cos{\\left(\\theta_{1} \\right)}\\\\l_{1}^{2} m_{1} \\sin^{2}{\\left(\\phi_{1} \\right)} \\sin^{2}{\\left(\\theta_{1} \\right)} + l_{1}^{2} m_{1} \\sin^{2}{\\left(\\phi_{1} \\right)} \\cos^{2}{\\left(\\theta_{1} \\right)} + l_{1}^{2} m_{2} \\sin^{2}{\\left(\\phi_{1} \\right)} \\sin^{2}{\\left(\\theta_{1} \\right)} + l_{1}^{2} m_{2} \\sin^{2}{\\left(\\phi_{1} \\right)} \\cos^{2}{\\left(\\theta_{1} \\right)} & l_{1} l_{2} m_{2} \\sin{\\left(\\phi_{1} \\right)} \\sin{\\left(\\phi_{2} \\right)} \\sin{\\left(\\theta_{1} \\right)} \\sin{\\left(\\theta_{2} \\right)} + l_{1} l_{2} m_{2} \\sin{\\left(\\phi_{1} \\right)} \\sin{\\left(\\phi_{2} \\right)} \\cos{\\left(\\theta_{1} \\right)} \\cos{\\left(\\theta_{2} \\right)} & 0 & - l_{1} l_{2} m_{2} \\sin{\\left(\\phi_{1} \\right)} \\sin{\\left(\\theta_{1} \\right)} \\cos{\\left(\\phi_{2} \\right)} \\cos{\\left(\\theta_{2} \\right)} + l_{1} l_{2} m_{2} \\sin{\\left(\\phi_{1} \\right)} \\sin{\\left(\\theta_{2} \\right)} \\cos{\\left(\\phi_{2} \\right)} \\cos{\\left(\\theta_{1} \\right)}\\\\0 & l_{1} l_{2} m_{2} \\sin{\\left(\\phi_{2} \\right)} \\sin{\\left(\\theta_{1} \\right)} \\cos{\\left(\\phi_{1} \\right)} \\cos{\\left(\\theta_{2} \\right)} - l_{1} l_{2} m_{2} \\sin{\\left(\\phi_{2} \\right)} \\sin{\\left(\\theta_{2} \\right)} \\cos{\\left(\\phi_{1} \\right)} \\cos{\\left(\\theta_{1} \\right)} & l_{1}^{2} m_{1} \\sin^{2}{\\left(\\phi_{1} \\right)} + l_{1}^{2} m_{1} \\sin^{2}{\\left(\\theta_{1} \\right)} \\cos^{2}{\\left(\\phi_{1} \\right)} + l_{1}^{2} m_{1} \\cos^{2}{\\left(\\phi_{1} \\right)} \\cos^{2}{\\left(\\theta_{1} \\right)} + l_{1}^{2} m_{2} \\sin^{2}{\\left(\\phi_{1} \\right)} + l_{1}^{2} m_{2} \\sin^{2}{\\left(\\theta_{1} \\right)} \\cos^{2}{\\left(\\phi_{1} \\right)} + l_{1}^{2} m_{2} \\cos^{2}{\\left(\\phi_{1} \\right)} \\cos^{2}{\\left(\\theta_{1} \\right)} & l_{1} l_{2} m_{2} \\sin{\\left(\\phi_{1} \\right)} \\sin{\\left(\\phi_{2} \\right)} + l_{1} l_{2} m_{2} \\sin{\\left(\\theta_{1} \\right)} \\sin{\\left(\\theta_{2} \\right)} \\cos{\\left(\\phi_{1} \\right)} \\cos{\\left(\\phi_{2} \\right)} + l_{1} l_{2} m_{2} \\cos{\\left(\\phi_{1} \\right)} \\cos{\\left(\\phi_{2} \\right)} \\cos{\\left(\\theta_{1} \\right)} \\cos{\\left(\\theta_{2} \\right)}\\\\- l_{1} l_{2} m_{2} \\sin{\\left(\\phi_{1} \\right)} \\sin{\\left(\\theta_{1} \\right)} \\cos{\\left(\\phi_{2} \\right)} \\cos{\\left(\\theta_{2} \\right)} + l_{1} l_{2} m_{2} \\sin{\\left(\\phi_{1} \\right)} \\sin{\\left(\\theta_{2} \\right)} \\cos{\\left(\\phi_{2} \\right)} \\cos{\\left(\\theta_{1} \\right)} & 0 & l_{1} l_{2} m_{2} \\sin{\\left(\\phi_{1} \\right)} \\sin{\\left(\\phi_{2} \\right)} + l_{1} l_{2} m_{2} \\sin{\\left(\\theta_{1} \\right)} \\sin{\\left(\\theta_{2} \\right)} \\cos{\\left(\\phi_{1} \\right)} \\cos{\\left(\\phi_{2} \\right)} + l_{1} l_{2} m_{2} \\cos{\\left(\\phi_{1} \\right)} \\cos{\\left(\\phi_{2} \\right)} \\cos{\\left(\\theta_{1} \\right)} \\cos{\\left(\\theta_{2} \\right)} & l_{2}^{2} m_{2} \\sin^{2}{\\left(\\phi_{2} \\right)} + l_{2}^{2} m_{2} \\sin^{2}{\\left(\\theta_{2} \\right)} \\cos^{2}{\\left(\\phi_{2} \\right)} + l_{2}^{2} m_{2} \\cos^{2}{\\left(\\phi_{2} \\right)} \\cos^{2}{\\left(\\theta_{2} \\right)}\\end{matrix}\\right]$"
      ],
      "text/plain": [
       "Matrix([\n",
       "[l1**2*m1*sin(phi1)**2*sin(theta1)**2 + l1**2*m1*sin(phi1)**2*cos(theta1)**2 + l1**2*m2*sin(phi1)**2*sin(theta1)**2 + l1**2*m2*sin(phi1)**2*cos(theta1)**2, l1*l2*m2*sin(phi1)*sin(phi2)*sin(theta1)*sin(theta2) + l1*l2*m2*sin(phi1)*sin(phi2)*cos(theta1)*cos(theta2),                                                                                                                                                                                                         0,                               -l1*l2*m2*sin(phi1)*sin(theta1)*cos(phi2)*cos(theta2) + l1*l2*m2*sin(phi1)*sin(theta2)*cos(phi2)*cos(theta1)],\n",
       "[l1**2*m1*sin(phi1)**2*sin(theta1)**2 + l1**2*m1*sin(phi1)**2*cos(theta1)**2 + l1**2*m2*sin(phi1)**2*sin(theta1)**2 + l1**2*m2*sin(phi1)**2*cos(theta1)**2, l1*l2*m2*sin(phi1)*sin(phi2)*sin(theta1)*sin(theta2) + l1*l2*m2*sin(phi1)*sin(phi2)*cos(theta1)*cos(theta2),                                                                                                                                                                                                         0,                               -l1*l2*m2*sin(phi1)*sin(theta1)*cos(phi2)*cos(theta2) + l1*l2*m2*sin(phi1)*sin(theta2)*cos(phi2)*cos(theta1)],\n",
       "[                                                                                                                                                        0, l1*l2*m2*sin(phi2)*sin(theta1)*cos(phi1)*cos(theta2) - l1*l2*m2*sin(phi2)*sin(theta2)*cos(phi1)*cos(theta1), l1**2*m1*sin(phi1)**2 + l1**2*m1*sin(theta1)**2*cos(phi1)**2 + l1**2*m1*cos(phi1)**2*cos(theta1)**2 + l1**2*m2*sin(phi1)**2 + l1**2*m2*sin(theta1)**2*cos(phi1)**2 + l1**2*m2*cos(phi1)**2*cos(theta1)**2, l1*l2*m2*sin(phi1)*sin(phi2) + l1*l2*m2*sin(theta1)*sin(theta2)*cos(phi1)*cos(phi2) + l1*l2*m2*cos(phi1)*cos(phi2)*cos(theta1)*cos(theta2)],\n",
       "[                                             -l1*l2*m2*sin(phi1)*sin(theta1)*cos(phi2)*cos(theta2) + l1*l2*m2*sin(phi1)*sin(theta2)*cos(phi2)*cos(theta1),                                                                                                           0,                                                                l1*l2*m2*sin(phi1)*sin(phi2) + l1*l2*m2*sin(theta1)*sin(theta2)*cos(phi1)*cos(phi2) + l1*l2*m2*cos(phi1)*cos(phi2)*cos(theta1)*cos(theta2),                                        l2**2*m2*sin(phi2)**2 + l2**2*m2*sin(theta2)**2*cos(phi2)**2 + l2**2*m2*cos(phi2)**2*cos(theta2)**2]])"
      ]
     },
     "execution_count": 9,
     "metadata": {},
     "output_type": "execute_result"
    }
   ],
   "source": [
    "#inertia term\n",
    "rows = []\n",
    "for f in [f1,f2,f3,f4]:\n",
    "    columns = []\n",
    "    for v in [theta1dd,theta2dd,phi1dd,phi2dd]:\n",
    "        columns.append(f.coeff(v))\n",
    "    rows.append(columns)\n",
    "\n",
    "M = sm.Matrix(rows)\n",
    "M"
   ]
  },
  {
   "cell_type": "code",
   "execution_count": 10,
   "id": "f9401d79",
   "metadata": {},
   "outputs": [],
   "source": [
    "#centrifugal / Coriolis force term,\n",
    "rows = []\n",
    "coordinates = list(combinations_with_replacement([theta1d,theta2d,phi1d,phi2d], 2))\n",
    "c_v = [sm.prod(i) for i in coordinates]\n",
    "for f in [f1,f2,f3,f4]:\n",
    "    columns = []\n",
    "    for v in c_v:\n",
    "        columns.append(f.coeff(v)*v)\n",
    "    rows.append(sum(columns))\n",
    "\n",
    "C = sm.Matrix(rows)"
   ]
  },
  {
   "cell_type": "code",
   "execution_count": 11,
   "id": "ec854ef7",
   "metadata": {},
   "outputs": [],
   "source": [
    "# gravity term\n",
    "rows = []\n",
    "for f in [f1,f2,f3,f4]:\n",
    "    columns = []\n",
    "    for v in [theta1dd,theta2dd,phi1dd,phi2dd]:\n",
    "        columns.append(f.coeff(v)*v)\n",
    "    rows.append(sum(columns))\n",
    "\n",
    "G = sm.Matrix([f1,f2,f3,f4]) - sm.Matrix(rows) - C"
   ]
  },
  {
   "cell_type": "code",
   "execution_count": 12,
   "id": "8895f403",
   "metadata": {},
   "outputs": [
    {
     "data": {
      "text/latex": [
       "$\\displaystyle \\left[\\begin{matrix}\\tau_{1}\\\\\\tau_{2}\\\\\\tau_{3}\\\\\\tau_{4}\\end{matrix}\\right]$"
      ],
      "text/plain": [
       "Matrix([\n",
       "[tau1],\n",
       "[tau2],\n",
       "[tau3],\n",
       "[tau4]])"
      ]
     },
     "execution_count": 12,
     "metadata": {},
     "output_type": "execute_result"
    }
   ],
   "source": [
    "tau = sm.Matrix([tau1, tau2, tau3, tau4])\n",
    "tau"
   ]
  },
  {
   "cell_type": "code",
   "execution_count": 13,
   "id": "089785cf",
   "metadata": {},
   "outputs": [
    {
     "data": {
      "text/latex": [
       "$\\displaystyle \\left( 4, \\  1\\right)$"
      ],
      "text/plain": [
       "(4, 1)"
      ]
     },
     "execution_count": 13,
     "metadata": {},
     "output_type": "execute_result"
    }
   ],
   "source": [
    "# added friction\n",
    "d = diag(c1, c2, c3, c4) * sm.Matrix([theta1d, theta2d, phi1d, phi2d])\n",
    "F = tau - C - G + d\n",
    "F.shape"
   ]
  },
  {
   "cell_type": "markdown",
   "id": "278a0458",
   "metadata": {},
   "source": [
    "# Dynamic modeling subject to constraint"
   ]
  },
  {
   "cell_type": "code",
   "execution_count": 14,
   "id": "a7431e7c",
   "metadata": {},
   "outputs": [
    {
     "data": {
      "text/latex": [
       "$\\displaystyle \\left( - L + l_{1} \\sin{\\left(\\phi_{1} \\right)} \\cos{\\left(\\theta_{1} \\right)} + l_{2} \\sin{\\left(\\phi_{2} \\right)} \\cos{\\left(\\theta_{2} \\right)}, \\  l_{1} \\sin{\\left(\\phi_{1} \\right)} \\sin{\\left(\\theta_{1} \\right)} + l_{2} \\sin{\\left(\\phi_{2} \\right)} \\sin{\\left(\\theta_{2} \\right)} + 0.2 \\cos{\\left(t \\right)} - 0.2, \\  - L + l_{1} \\cos{\\left(\\phi_{1} \\right)} + l_{2} \\cos{\\left(\\phi_{2} \\right)}\\right)$"
      ],
      "text/plain": [
       "(-L + l1*sin(phi1)*cos(theta1) + l2*sin(phi2)*cos(theta2), l1*sin(phi1)*sin(theta1) + l2*sin(phi2)*sin(theta2) + 0.2*cos(t) - 0.2, -L + l1*cos(phi1) + l2*cos(phi2))"
      ]
     },
     "execution_count": 14,
     "metadata": {},
     "output_type": "execute_result"
    }
   ],
   "source": [
    "endefX = x2 - L #endeffector x trajectory\n",
    "endefY = y2 - 0.2*(1-sm.cos(t)) #endeffector y trajectory\n",
    "endefZ = z2 - L #endeffector z trajectory\n",
    "endefX, endefY, endefZ"
   ]
  },
  {
   "cell_type": "code",
   "execution_count": 15,
   "id": "f9d65bd1",
   "metadata": {},
   "outputs": [
    {
     "data": {
      "text/latex": [
       "$\\displaystyle \\left( - l_{1} \\sin{\\left(\\phi_{1} \\right)} \\sin{\\left(\\theta_{1} \\right)} \\ddot{\\theta}_{1} - l_{1} \\sin{\\left(\\phi_{1} \\right)} \\cos{\\left(\\theta_{1} \\right)} \\dot{\\phi}_{1}^{2} - l_{1} \\sin{\\left(\\phi_{1} \\right)} \\cos{\\left(\\theta_{1} \\right)} \\dot{\\theta}_{1}^{2} - 2 l_{1} \\sin{\\left(\\theta_{1} \\right)} \\cos{\\left(\\phi_{1} \\right)} \\dot{\\phi}_{1} \\dot{\\theta}_{1} + l_{1} \\cos{\\left(\\phi_{1} \\right)} \\cos{\\left(\\theta_{1} \\right)} \\ddot{\\phi}_{1} - l_{2} \\sin{\\left(\\phi_{2} \\right)} \\sin{\\left(\\theta_{2} \\right)} \\ddot{\\theta}_{2} - l_{2} \\sin{\\left(\\phi_{2} \\right)} \\cos{\\left(\\theta_{2} \\right)} \\dot{\\phi}_{2}^{2} - l_{2} \\sin{\\left(\\phi_{2} \\right)} \\cos{\\left(\\theta_{2} \\right)} \\dot{\\theta}_{2}^{2} - 2 l_{2} \\sin{\\left(\\theta_{2} \\right)} \\cos{\\left(\\phi_{2} \\right)} \\dot{\\phi}_{2} \\dot{\\theta}_{2} + l_{2} \\cos{\\left(\\phi_{2} \\right)} \\cos{\\left(\\theta_{2} \\right)} \\ddot{\\phi}_{2}, \\  - l_{1} \\sin{\\left(\\phi_{1} \\right)} \\sin{\\left(\\theta_{1} \\right)} \\dot{\\phi}_{1}^{2} - l_{1} \\sin{\\left(\\phi_{1} \\right)} \\sin{\\left(\\theta_{1} \\right)} \\dot{\\theta}_{1}^{2} + l_{1} \\sin{\\left(\\phi_{1} \\right)} \\cos{\\left(\\theta_{1} \\right)} \\ddot{\\theta}_{1} + l_{1} \\sin{\\left(\\theta_{1} \\right)} \\cos{\\left(\\phi_{1} \\right)} \\ddot{\\phi}_{1} + 2 l_{1} \\cos{\\left(\\phi_{1} \\right)} \\cos{\\left(\\theta_{1} \\right)} \\dot{\\phi}_{1} \\dot{\\theta}_{1} - l_{2} \\sin{\\left(\\phi_{2} \\right)} \\sin{\\left(\\theta_{2} \\right)} \\dot{\\phi}_{2}^{2} - l_{2} \\sin{\\left(\\phi_{2} \\right)} \\sin{\\left(\\theta_{2} \\right)} \\dot{\\theta}_{2}^{2} + l_{2} \\sin{\\left(\\phi_{2} \\right)} \\cos{\\left(\\theta_{2} \\right)} \\ddot{\\theta}_{2} + l_{2} \\sin{\\left(\\theta_{2} \\right)} \\cos{\\left(\\phi_{2} \\right)} \\ddot{\\phi}_{2} + 2 l_{2} \\cos{\\left(\\phi_{2} \\right)} \\cos{\\left(\\theta_{2} \\right)} \\dot{\\phi}_{2} \\dot{\\theta}_{2} - 0.2 \\cos{\\left(t \\right)}, \\  - l_{1} \\sin{\\left(\\phi_{1} \\right)} \\ddot{\\phi}_{1} - l_{1} \\cos{\\left(\\phi_{1} \\right)} \\dot{\\phi}_{1}^{2} - l_{2} \\sin{\\left(\\phi_{2} \\right)} \\ddot{\\phi}_{2} - l_{2} \\cos{\\left(\\phi_{2} \\right)} \\dot{\\phi}_{2}^{2}\\right)$"
      ],
      "text/plain": [
       "(-l1*sin(phi1)*sin(theta1)*theta1'' - l1*sin(phi1)*cos(theta1)*phi1'**2 - l1*sin(phi1)*cos(theta1)*theta1'**2 - 2*l1*sin(theta1)*cos(phi1)*phi1'*theta1' + l1*cos(phi1)*cos(theta1)*phi1'' - l2*sin(phi2)*sin(theta2)*theta2'' - l2*sin(phi2)*cos(theta2)*phi2'**2 - l2*sin(phi2)*cos(theta2)*theta2'**2 - 2*l2*sin(theta2)*cos(phi2)*phi2'*theta2' + l2*cos(phi2)*cos(theta2)*phi2'', -l1*sin(phi1)*sin(theta1)*phi1'**2 - l1*sin(phi1)*sin(theta1)*theta1'**2 + l1*sin(phi1)*cos(theta1)*theta1'' + l1*sin(theta1)*cos(phi1)*phi1'' + 2*l1*cos(phi1)*cos(theta1)*phi1'*theta1' - l2*sin(phi2)*sin(theta2)*phi2'**2 - l2*sin(phi2)*sin(theta2)*theta2'**2 + l2*sin(phi2)*cos(theta2)*theta2'' + l2*sin(theta2)*cos(phi2)*phi2'' + 2*l2*cos(phi2)*cos(theta2)*phi2'*theta2' - 0.2*cos(t), -l1*sin(phi1)*phi1'' - l1*cos(phi1)*phi1'**2 - l2*sin(phi2)*phi2'' - l2*cos(phi2)*phi2'**2)"
      ]
     },
     "execution_count": 15,
     "metadata": {},
     "output_type": "execute_result"
    }
   ],
   "source": [
    "# get second order form\n",
    "endefXdd = sm.diff(sm.diff(endefX,t),t)\n",
    "endefYdd = sm.diff(sm.diff(endefY,t),t)\n",
    "endefZdd = sm.diff(sm.diff(endefZ,t),t)\n",
    "endefXdd, endefYdd, endefZdd"
   ]
  },
  {
   "cell_type": "code",
   "execution_count": 16,
   "id": "7a0980fc",
   "metadata": {},
   "outputs": [
    {
     "data": {
      "text/latex": [
       "$\\displaystyle \\left[\\begin{matrix}- l_{1} \\sin{\\left(\\phi_{1} \\right)} \\sin{\\left(\\theta_{1} \\right)} & - l_{2} \\sin{\\left(\\phi_{2} \\right)} \\sin{\\left(\\theta_{2} \\right)} & l_{1} \\cos{\\left(\\phi_{1} \\right)} \\cos{\\left(\\theta_{1} \\right)} & l_{2} \\cos{\\left(\\phi_{2} \\right)} \\cos{\\left(\\theta_{2} \\right)}\\\\l_{1} \\sin{\\left(\\phi_{1} \\right)} \\cos{\\left(\\theta_{1} \\right)} & l_{2} \\sin{\\left(\\phi_{2} \\right)} \\cos{\\left(\\theta_{2} \\right)} & l_{1} \\sin{\\left(\\theta_{1} \\right)} \\cos{\\left(\\phi_{1} \\right)} & l_{2} \\sin{\\left(\\theta_{2} \\right)} \\cos{\\left(\\phi_{2} \\right)}\\\\0 & 0 & - l_{1} \\sin{\\left(\\phi_{1} \\right)} & - l_{2} \\sin{\\left(\\phi_{2} \\right)}\\end{matrix}\\right]$"
      ],
      "text/plain": [
       "Matrix([\n",
       "[-l1*sin(phi1)*sin(theta1), -l2*sin(phi2)*sin(theta2), l1*cos(phi1)*cos(theta1), l2*cos(phi2)*cos(theta2)],\n",
       "[ l1*sin(phi1)*cos(theta1),  l2*sin(phi2)*cos(theta2), l1*sin(theta1)*cos(phi1), l2*sin(theta2)*cos(phi2)],\n",
       "[                        0,                         0,            -l1*sin(phi1),            -l2*sin(phi2)]])"
      ]
     },
     "execution_count": 16,
     "metadata": {},
     "output_type": "execute_result"
    }
   ],
   "source": [
    "A11 = endefXdd.coeff(theta1dd)\n",
    "A21 = endefXdd.coeff(theta2dd)\n",
    "A31 = endefXdd.coeff(phi1dd)\n",
    "A41 = endefXdd.coeff(phi2dd)\n",
    "\n",
    "A12 = endefYdd.coeff(theta1dd)\n",
    "A22 = endefYdd.coeff(theta2dd)\n",
    "A32 = endefYdd.coeff(phi1dd)\n",
    "A42 = endefYdd.coeff(phi2dd)\n",
    "\n",
    "A13 = endefZdd.coeff(theta1dd)\n",
    "A23 = endefZdd.coeff(theta2dd)\n",
    "A33 = endefZdd.coeff(phi1dd)\n",
    "A43 = endefZdd.coeff(phi2dd)\n",
    "\n",
    "A = sm.Matrix([[A11, A21, A31, A41], [A12, A22, A32, A42], [A13, A23, A33, A43]])\n",
    "A"
   ]
  },
  {
   "cell_type": "code",
   "execution_count": 17,
   "id": "af8cc1b7",
   "metadata": {},
   "outputs": [
    {
     "data": {
      "text/latex": [
       "$\\displaystyle \\left[\\begin{matrix}l_{1} \\sin{\\left(\\phi_{1} \\right)} \\cos{\\left(\\theta_{1} \\right)} \\dot{\\phi}_{1}^{2} + l_{1} \\sin{\\left(\\phi_{1} \\right)} \\cos{\\left(\\theta_{1} \\right)} \\dot{\\theta}_{1}^{2} + 2 l_{1} \\sin{\\left(\\theta_{1} \\right)} \\cos{\\left(\\phi_{1} \\right)} \\dot{\\phi}_{1} \\dot{\\theta}_{1} + l_{2} \\sin{\\left(\\phi_{2} \\right)} \\cos{\\left(\\theta_{2} \\right)} \\dot{\\phi}_{2}^{2} + l_{2} \\sin{\\left(\\phi_{2} \\right)} \\cos{\\left(\\theta_{2} \\right)} \\dot{\\theta}_{2}^{2} + 2 l_{2} \\sin{\\left(\\theta_{2} \\right)} \\cos{\\left(\\phi_{2} \\right)} \\dot{\\phi}_{2} \\dot{\\theta}_{2}\\\\l_{1} \\sin{\\left(\\phi_{1} \\right)} \\sin{\\left(\\theta_{1} \\right)} \\dot{\\phi}_{1}^{2} + l_{1} \\sin{\\left(\\phi_{1} \\right)} \\sin{\\left(\\theta_{1} \\right)} \\dot{\\theta}_{1}^{2} - 2 l_{1} \\cos{\\left(\\phi_{1} \\right)} \\cos{\\left(\\theta_{1} \\right)} \\dot{\\phi}_{1} \\dot{\\theta}_{1} + l_{2} \\sin{\\left(\\phi_{2} \\right)} \\sin{\\left(\\theta_{2} \\right)} \\dot{\\phi}_{2}^{2} + l_{2} \\sin{\\left(\\phi_{2} \\right)} \\sin{\\left(\\theta_{2} \\right)} \\dot{\\theta}_{2}^{2} - 2 l_{2} \\cos{\\left(\\phi_{2} \\right)} \\cos{\\left(\\theta_{2} \\right)} \\dot{\\phi}_{2} \\dot{\\theta}_{2} + 0.2 \\cos{\\left(t \\right)}\\\\l_{1} \\cos{\\left(\\phi_{1} \\right)} \\dot{\\phi}_{1}^{2} + l_{2} \\cos{\\left(\\phi_{2} \\right)} \\dot{\\phi}_{2}^{2}\\end{matrix}\\right]$"
      ],
      "text/plain": [
       "Matrix([\n",
       "[             l1*sin(phi1)*cos(theta1)*phi1'**2 + l1*sin(phi1)*cos(theta1)*theta1'**2 + 2*l1*sin(theta1)*cos(phi1)*phi1'*theta1' + l2*sin(phi2)*cos(theta2)*phi2'**2 + l2*sin(phi2)*cos(theta2)*theta2'**2 + 2*l2*sin(theta2)*cos(phi2)*phi2'*theta2'],\n",
       "[l1*sin(phi1)*sin(theta1)*phi1'**2 + l1*sin(phi1)*sin(theta1)*theta1'**2 - 2*l1*cos(phi1)*cos(theta1)*phi1'*theta1' + l2*sin(phi2)*sin(theta2)*phi2'**2 + l2*sin(phi2)*sin(theta2)*theta2'**2 - 2*l2*cos(phi2)*cos(theta2)*phi2'*theta2' + 0.2*cos(t)],\n",
       "[                                                                                                                                                                                                       l1*cos(phi1)*phi1'**2 + l2*cos(phi2)*phi2'**2]])"
      ]
     },
     "execution_count": 17,
     "metadata": {},
     "output_type": "execute_result"
    }
   ],
   "source": [
    "b1 = endefXdd - sm.expand(A11)*theta1dd - sm.expand(A21)*theta2dd - sm.expand(A31)*phi1dd - sm.expand(A41)*phi2dd \n",
    "b2 = endefYdd - sm.expand(A12)*theta1dd - sm.expand(A22)*theta2dd - sm.expand(A32)*phi1dd - sm.expand(A42)*phi2dd \n",
    "b3 = endefZdd - sm.expand(A13)*theta1dd - sm.expand(A23)*theta2dd - sm.expand(A33)*phi1dd - sm.expand(A43)*phi2dd \n",
    "\n",
    "b = -sm.Matrix([b1,b2,b3])\n",
    "b"
   ]
  },
  {
   "cell_type": "code",
   "execution_count": 18,
   "id": "a8390ff9",
   "metadata": {},
   "outputs": [],
   "source": [
    "# ode func for scipy solve_ivp\n",
    "theta1d_func = sm.lambdify(theta1d, theta1d)\n",
    "theta2d_func = sm.lambdify(theta2d, theta2d)\n",
    "phi1d_func = sm.lambdify(phi1d, phi1d)\n",
    "phi2d_func = sm.lambdify(phi2d, phi2d)\n",
    "\n",
    "t_span = (0, 50)\n",
    "g_ = 0\n",
    "m1_ = 1\n",
    "m2_ = 1\n",
    "l1_ = 1\n",
    "l2_ = 1\n",
    "tq1_ = 0\n",
    "tq2_ = 0\n",
    "tq3_ = 0\n",
    "tq4_ = 0\n",
    "c1_ = 0.5\n",
    "c2_ = 0.5\n",
    "c3_ = 0.5\n",
    "c4_ = 0.5\n",
    "y0 = [30,0,-30,0,0,0,0]  # Initial state of the system\n"
   ]
  },
  {
   "cell_type": "code",
   "execution_count": null,
   "id": "8e2b4a59",
   "metadata": {},
   "outputs": [],
   "source": [
    "h_sn = (A*(M**(-1/2))).subs({gty: g_,l1: l1_, l2: l2_, m1: m1_, m2: m2_, c1:c1_,c2:c2_,c3:c3_,c4:c4_,tau1:tq1_,tau2:tq2_,tau3:tq3_,tau4:tq4_})\n",
    "j_sn = (M**(1/2)).subs({gty: g_,l1: l1_, l2: l2_, m1: m1_, m2: m2_, c1:c1_,c2:c2_,c3:c3_,c4:c4_,tau1:tq1_,tau2:tq2_,tau3:tq3_,tau4:tq4_})\n",
    "k_sn = (b-(A*(M.inv()*F))).subs({gty: g_,l1: l1_, l2: l2_, m1: m1_, m2: m2_, c1:c1_,c2:c2_,c3:c3_,c4:c4_,tau1:tq1_,tau2:tq2_,tau3:tq3_,tau4:tq4_})\n",
    "F_sn = F.subs({gty: g_,l1: l1_, l2: l2_, m1: m1_, m2: m2_, c1:c1_,c2:c2_,c3:c3_,c4:c4_,tau1:tq1_,tau2:tq2_,tau3:tq3_,tau4:tq4_})\n",
    "M_sn = M.subs({gty: g_,l1: l1_, l2: l2_, m1: m1_, m2: m2_, c1:c1_,c2:c2_,c3:c3_,c4:c4_,tau1:tq1_,tau2:tq2_,tau3:tq3_,tau4:tq4_})"
   ]
  },
  {
   "cell_type": "code",
   "execution_count": null,
   "id": "6569a1ca",
   "metadata": {},
   "outputs": [],
   "source": [
    "def dSdt(t,S):\n",
    "    thet1_, dtheta1_, thet2_, dtheta2_,phi1_,dphi1_,phi2_,dphi2_ = S\n",
    "    \n",
    "    print(t, S)\n",
    "    \n",
    "    h_n = h_sn.subs({Symbol('t'):t,theta1:thet1_ ,theta2:thet2_,theta1d:dtheta1_, theta2d:dtheta2_,\n",
    "                    phi1:phi1_ ,phi2:phi2_,phi1d:dphi1_, phi2d:dphi2_}).evalf()\n",
    "    j_n = j_sn.subs({Symbol('t'):t,theta1:thet1_ ,theta2:thet2_,theta1d:dtheta1_, theta2d:dtheta2_,\n",
    "                    phi1:phi1_ ,phi2:phi2_,phi1d:dphi1_, phi2d:dphi2_}).evalf()\n",
    "    k_n = k_sn.subs({Symbol('t'):t,theta1:thet1_ ,theta2:thet2_,theta1d:dtheta1_, theta2d:dtheta2_,\n",
    "                    phi1:phi1_ ,phi2:phi2_,phi1d:dphi1_, phi2d:dphi2_}).evalf()\n",
    "    psu_i = h_n.pinv()\n",
    "    Fc = (j_n * psu_i * k_n)\n",
    "    F_n = F_sn.subs({Symbol('t'):t,theta1:thet1_ ,theta2:thet2_,theta1d:dtheta1_, theta2d:dtheta2_,\n",
    "                    phi1:phi1_ ,phi2:phi2_,phi1d:dphi1_, phi2d:dphi2_}).evalf()\n",
    "    rf = F_n + Fc\n",
    "    ra = M_sn.inv().subs({Symbol('t'):t,theta1:thet1_ ,theta2:thet2_,theta1d:dtheta1_, theta2d:dtheta2_,\n",
    "                    phi1:phi1_ ,phi2:phi2_,phi1d:dphi1_, phi2d:dphi2_}).evalf() * rf\n",
    "    return [\n",
    "        theta1d_func(dtheta1_),\n",
    "        ra[0],\n",
    "        theta2d_func(dtheta2_),\n",
    "        ra[1],\n",
    "        phi1d_func(dphi1_),\n",
    "        ra[2],\n",
    "        phi2d_func(dphi2_),\n",
    "        ra[3]\n",
    "    ]\n"
   ]
  },
  {
   "cell_type": "code",
   "execution_count": null,
   "id": "36c06d40",
   "metadata": {},
   "outputs": [],
   "source": [
    "solve_ivp_rk45 = solve_ivp(dSdt,t_span, y0, method=\"LSODA\")"
   ]
  }
 ],
 "metadata": {
  "kernelspec": {
   "display_name": "Python 3 (ipykernel)",
   "language": "python",
   "name": "python3"
  },
  "language_info": {
   "codemirror_mode": {
    "name": "ipython",
    "version": 3
   },
   "file_extension": ".py",
   "mimetype": "text/x-python",
   "name": "python",
   "nbconvert_exporter": "python",
   "pygments_lexer": "ipython3",
   "version": "3.8.9"
  }
 },
 "nbformat": 4,
 "nbformat_minor": 5
}
