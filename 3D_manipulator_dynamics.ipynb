{
 "cells": [
  {
   "cell_type": "code",
   "execution_count": 1,
   "id": "8a6c2997",
   "metadata": {},
   "outputs": [],
   "source": [
    "import sympy as sm\n",
    "from sympy import diff, Symbol, cos,diag, Rational\n",
    "from scipy.integrate import solve_ivp,OdeSolver,odeint\n",
    "import numpy as np\n",
    "from sympy.physics.mechanics import dynamicsymbols\n",
    "import math\n",
    "import matplotlib.pyplot as plt\n",
    "from itertools import combinations_with_replacement\n",
    "from functools import reduce"
   ]
  },
  {
   "cell_type": "code",
   "execution_count": 2,
   "id": "b0e1532d",
   "metadata": {},
   "outputs": [],
   "source": [
    "from sympy.physics.vector import init_vprinting\n",
    "init_vprinting(use_latex=\"mathjax\", pretty_print=False)"
   ]
  },
  {
   "cell_type": "code",
   "execution_count": 3,
   "id": "9a63fad1",
   "metadata": {},
   "outputs": [
    {
     "data": {
      "text/latex": [
       "$\\displaystyle \\left( g, \\  m_{1}, \\  m_{2}, \\  l_{1}, \\  l_{2}, \\  \\theta_{1}, \\  \\theta_{2}, \\  \\phi_{1}, \\  \\phi_{2}, \\  \\dot{\\theta}_{1}, \\  \\dot{\\theta}_{2}, \\  \\dot{\\phi}_{1}, \\  \\dot{\\phi}_{2}, \\  \\ddot{\\theta}_{1}, \\  \\ddot{\\theta}_{2}, \\  \\ddot{\\phi}_{1}, \\  \\ddot{\\phi}_{2}, \\  \\tau_{1}, \\  \\tau_{2}, \\  \\tau_{3}, \\  \\tau_{4}, \\  r_{1}, \\  r_{2}\\right)$"
      ],
      "text/plain": [
       "(g, m1, m2, l1, l2, theta1, theta2, phi1, phi2, theta1', theta2', phi1', phi2', theta1'', theta2'', phi1'', phi2'', tau1, tau2, tau3, tau4, r1, r2)"
      ]
     },
     "execution_count": 3,
     "metadata": {},
     "output_type": "execute_result"
    }
   ],
   "source": [
    "m1, m2, l1, l2, g ,tau1, tau2,tau3,tau4, c1, c2, c3, c4, L, r1,r2= sm.symbols('m1 m2 l1 l2 g tau1 tau2 tau3 tau4 c1 c2 c3 c4 L r1 r2', real =True)\n",
    "t = Symbol('t')\n",
    "theta1, theta2, phi1, phi2 =  dynamicsymbols('theta1 theta2 phi1 phi2')\n",
    "\n",
    "theta1d = dynamicsymbols('theta1',1)\n",
    "theta2d = dynamicsymbols('theta2',1)\n",
    "phi1d = dynamicsymbols('phi1',1)\n",
    "phi2d = dynamicsymbols('phi2',1)\n",
    "theta1dd = dynamicsymbols('theta1',2)\n",
    "theta2dd = dynamicsymbols('theta2',2)\n",
    "phi1dd = dynamicsymbols('phi1',2)\n",
    "phi2dd = dynamicsymbols('phi2',2)\n",
    "g, m1, m2, l1, l2, theta1, theta2, phi1, phi2, theta1d, theta2d, phi1d,phi2d, theta1dd, theta2dd, phi1dd,phi2dd, tau1, tau2,tau3,tau4,r1,r2"
   ]
  },
  {
   "cell_type": "code",
   "execution_count": 4,
   "id": "0bb19bc1",
   "metadata": {},
   "outputs": [],
   "source": [
    "x1_ = 0.5*l1*sm.cos(theta1)*sm.sin(phi1)\n",
    "y1_ = 0.5*l1*sm.sin(theta1)*sm.sin(phi1)\n",
    "z1_ = 0.5*l1*sm.cos(phi1)\n",
    "\n",
    "x2_ = l1*sm.cos(theta1)*sm.sin(phi1) + 0.5*l2*sm.cos(theta2)*sm.sin(phi2)\n",
    "y2_ = l1*sm.sin(theta1)*sm.sin(phi1) + 0.5*l2*sm.sin(theta2)*sm.sin(phi2)\n",
    "z2_ = l1*sm.cos(phi1) + 0.5*l2*cos(phi2 )\n",
    "\n",
    "x1_dot = sm.diff(x1_,t)\n",
    "y1_dot = sm.diff(y1_,t)\n",
    "z1_dot = sm.diff(z1_,t)\n",
    "\n",
    "x2_dot = sm.diff(x2_,t)\n",
    "y2_dot = sm.diff(y2_,t)\n",
    "z2_dot = sm.diff(z2_,t)"
   ]
  },
  {
   "cell_type": "code",
   "execution_count": 5,
   "id": "45f94c9e",
   "metadata": {},
   "outputs": [],
   "source": [
    "I1 = Rational('1/12')*m1*l1**2 + Rational('1/4')*m1*r1**2"
   ]
  },
  {
   "cell_type": "code",
   "execution_count": 6,
   "id": "c968ebed",
   "metadata": {},
   "outputs": [],
   "source": [
    "v1 = Rational('0.5')*l1*theta1d"
   ]
  },
  {
   "cell_type": "code",
   "execution_count": 7,
   "id": "6c2bd32f",
   "metadata": {},
   "outputs": [],
   "source": [
    "w1 = theta1d"
   ]
  },
  {
   "cell_type": "code",
   "execution_count": 8,
   "id": "885e19e9",
   "metadata": {},
   "outputs": [],
   "source": [
    "k1 = Rational('1/2')*m1*v1**2 + Rational('1/2')*I1*w1**2"
   ]
  },
  {
   "cell_type": "code",
   "execution_count": 9,
   "id": "ffddb7f0",
   "metadata": {},
   "outputs": [],
   "source": [
    "v2 = x2_dot**2 + y2_dot**2 + z2_dot**2"
   ]
  },
  {
   "cell_type": "code",
   "execution_count": 10,
   "id": "6e1034a0",
   "metadata": {},
   "outputs": [],
   "source": [
    "w2 = theta1d + theta2d"
   ]
  },
  {
   "cell_type": "code",
   "execution_count": 11,
   "id": "9cbb528d",
   "metadata": {},
   "outputs": [],
   "source": [
    "I2 = Rational('1/12')*m2*l2**2 + Rational('1/4')*m2*r2**2"
   ]
  },
  {
   "cell_type": "code",
   "execution_count": 12,
   "id": "b84b3776",
   "metadata": {},
   "outputs": [],
   "source": [
    "k2 = Rational('1/2')*m2*v2**2 + Rational('1/2')*I2*w2**2"
   ]
  },
  {
   "cell_type": "code",
   "execution_count": 13,
   "id": "d83fb87a",
   "metadata": {},
   "outputs": [],
   "source": [
    "p1 = m1*g*z1_"
   ]
  },
  {
   "cell_type": "code",
   "execution_count": 14,
   "id": "bd1bfe1f",
   "metadata": {},
   "outputs": [],
   "source": [
    "p2 = m2*g*z2_"
   ]
  },
  {
   "cell_type": "code",
   "execution_count": 16,
   "id": "57b60f26",
   "metadata": {},
   "outputs": [],
   "source": [
    "#kinetic\n",
    "ke = k1 + k2\n",
    "\n",
    "#potential\n",
    "pe = p1 + p2\n",
    "\n",
    "# the lagrangian equation\n",
    "Ls = ke - pe"
   ]
  },
  {
   "cell_type": "code",
   "execution_count": 17,
   "id": "bf5f65bc",
   "metadata": {},
   "outputs": [],
   "source": [
    "f1 = (sm.diff(sm.diff(Ls,theta1d),t) - sm.diff(Ls,theta1)).expand()\n",
    "f2 = (sm.diff(sm.diff(Ls,theta1d),t) - sm.diff(Ls,theta2)).expand()\n",
    "f3 = (sm.diff(sm.diff(Ls,phi1d),t) - sm.diff(Ls,phi1)).expand()\n",
    "f4 = (sm.diff(sm.diff(Ls,phi2d),t) - sm.diff(Ls,phi2)).expand()"
   ]
  },
  {
   "cell_type": "code",
   "execution_count": 19,
   "id": "f7318bf3",
   "metadata": {},
   "outputs": [],
   "source": [
    "#inertia term\n",
    "rows = []\n",
    "for f in [f1,f2,f3,f4]:\n",
    "    columns = []\n",
    "    for v in [theta1dd,theta2dd,phi1dd,phi2dd]:\n",
    "        columns.append(f.coeff(v))\n",
    "    rows.append(columns)\n",
    "\n",
    "M = sm.Matrix(rows)"
   ]
  },
  {
   "cell_type": "code",
   "execution_count": 20,
   "id": "ec1a98b5",
   "metadata": {},
   "outputs": [],
   "source": [
    "#centrifugal / Coriolis force term,\n",
    "rows = []\n",
    "coordinates = list(combinations_with_replacement([theta1d,theta2d,phi1d,phi2d], 2))\n",
    "c_v = [sm.prod(i) for i in coordinates]\n",
    "for f in [f1,f2,f3,f4]:\n",
    "    columns = []\n",
    "    for v in c_v:\n",
    "        columns.append(f.coeff(v)*v)\n",
    "    rows.append(sum(columns))\n",
    "\n",
    "C = sm.Matrix(rows)"
   ]
  },
  {
   "cell_type": "code",
   "execution_count": 21,
   "id": "0dca4e20",
   "metadata": {},
   "outputs": [],
   "source": [
    "# gravity term\n",
    "rows = []\n",
    "for f in [f1,f2,f3,f4]:\n",
    "    columns = []\n",
    "    for v in [theta1dd,theta2dd,phi1dd,phi2dd]:\n",
    "        columns.append(f.coeff(v)*v)\n",
    "    rows.append(sum(columns))\n",
    "\n",
    "G = sm.Matrix([f1,f2,f3,f4]) - sm.Matrix(rows) - C"
   ]
  },
  {
   "cell_type": "code",
   "execution_count": 22,
   "id": "b1372879",
   "metadata": {},
   "outputs": [
    {
     "data": {
      "text/latex": [
       "$\\displaystyle \\left[\\begin{matrix}\\tau_{1}\\\\\\tau_{2}\\\\\\tau_{3}\\\\\\tau_{4}\\end{matrix}\\right]$"
      ],
      "text/plain": [
       "Matrix([\n",
       "[tau1],\n",
       "[tau2],\n",
       "[tau3],\n",
       "[tau4]])"
      ]
     },
     "execution_count": 22,
     "metadata": {},
     "output_type": "execute_result"
    }
   ],
   "source": [
    "tau = sm.Matrix([tau1, tau2, tau3, tau4])\n",
    "tau"
   ]
  }
 ],
 "metadata": {
  "kernelspec": {
   "display_name": "Python 3 (ipykernel)",
   "language": "python",
   "name": "python3"
  },
  "language_info": {
   "codemirror_mode": {
    "name": "ipython",
    "version": 3
   },
   "file_extension": ".py",
   "mimetype": "text/x-python",
   "name": "python",
   "nbconvert_exporter": "python",
   "pygments_lexer": "ipython3",
   "version": "3.8.9"
  }
 },
 "nbformat": 4,
 "nbformat_minor": 5
}
