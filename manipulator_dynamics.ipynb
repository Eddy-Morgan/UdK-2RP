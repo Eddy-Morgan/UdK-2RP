{
 "cells": [
  {
   "cell_type": "code",
   "execution_count": 1,
   "metadata": {},
   "outputs": [],
   "source": [
    "import sympy as sm\n",
    "from sympy import Symbol\n",
    "from sympy.physics.mechanics import dynamicsymbols\n",
    "from itertools import combinations_with_replacement"
   ]
  },
  {
   "cell_type": "code",
   "execution_count": 2,
   "metadata": {},
   "outputs": [],
   "source": [
    "from sympy.physics.vector import init_vprinting\n",
    "init_vprinting(use_latex=\"mathjax\", pretty_print=False)"
   ]
  },
  {
   "cell_type": "code",
   "execution_count": 3,
   "metadata": {},
   "outputs": [
    {
     "data": {
      "text/latex": [
       "$\\displaystyle \\left( m_{1}, \\  m_{2}, \\  m_{3}, \\  l_{0}, \\  l_{1}, \\  l_{2}, \\  r, \\  q_{1}, \\  q_{2}, \\  q_{3}, \\  \\dot{q}_{1}, \\  \\ddot{q}_{1}\\right)$"
      ],
      "text/plain": [
       "(m1, m2, m3, l0, l1, l2, r, q1, q2, q3, q1', q1'')"
      ]
     },
     "execution_count": 3,
     "metadata": {},
     "output_type": "execute_result"
    }
   ],
   "source": [
    "m1,m2,m3,l0,l1,l2,r,g = sm.symbols('m1 m2 m3 l0 l1 l2 r g', real =True)\n",
    "t = Symbol('t')\n",
    "q1, q2, q3 = dynamicsymbols('q1 q2 q3')\n",
    "q1d = dynamicsymbols('q1',1)\n",
    "q2d = dynamicsymbols('q2',1)\n",
    "q3d = dynamicsymbols('q3',1)\n",
    "q1dd = dynamicsymbols('q1',2)\n",
    "q2dd = dynamicsymbols('q2',2)\n",
    "q3dd = dynamicsymbols('q3',2)\n",
    "m1,m2,m3,l0,l1,l2 ,r, q1,q2, q3, q1d, q1dd"
   ]
  },
  {
   "cell_type": "code",
   "execution_count": 4,
   "metadata": {},
   "outputs": [
    {
     "data": {
      "text/latex": [
       "$\\displaystyle 0.25 m_{1} r^{2} \\dot{q}_{1}^{2}$"
      ],
      "text/plain": [
       "0.25*m1*r**2*q1'**2"
      ]
     },
     "execution_count": 4,
     "metadata": {},
     "output_type": "execute_result"
    }
   ],
   "source": [
    "I0 = m1*(r**2)/2\n",
    "k0 = 1/2 * I0 *q1d**2\n",
    "k0"
   ]
  },
  {
   "cell_type": "code",
   "execution_count": 5,
   "metadata": {},
   "outputs": [
    {
     "data": {
      "text/latex": [
       "$\\displaystyle 0.5 g l_{0} m_{1}$"
      ],
      "text/plain": [
       "0.5*g*l0*m1"
      ]
     },
     "execution_count": 5,
     "metadata": {},
     "output_type": "execute_result"
    }
   ],
   "source": [
    "p0 = 1/2*m1*g*l0\n",
    "p0"
   ]
  },
  {
   "cell_type": "code",
   "execution_count": 6,
   "metadata": {},
   "outputs": [
    {
     "data": {
      "text/latex": [
       "$\\displaystyle 0.5 m_{1} \\left(l_{1}^{2} \\cos^{2}{\\left(q_{2} \\right)} \\dot{q}_{2}^{2} + \\left(- l_{1} \\sin{\\left(q_{1} \\right)} \\sin{\\left(q_{2} \\right)} \\dot{q}_{2} + l_{1} \\cos{\\left(q_{1} \\right)} \\cos{\\left(q_{2} \\right)} \\dot{q}_{1}\\right)^{2} + \\left(- l_{1} \\sin{\\left(q_{1} \\right)} \\cos{\\left(q_{2} \\right)} \\dot{q}_{1} - l_{1} \\sin{\\left(q_{2} \\right)} \\cos{\\left(q_{1} \\right)} \\dot{q}_{2}\\right)^{2}\\right) + \\left(0.0416666666666667 l_{1}^{2} m_{1} + 0.125 m_{1} r^{2}\\right) \\dot{q}_{2}^{2}$"
      ],
      "text/plain": [
       "0.5*m1*(l1**2*cos(q2)**2*q2'**2 + (-l1*sin(q1)*sin(q2)*q2' + l1*cos(q1)*cos(q2)*q1')**2 + (-l1*sin(q1)*cos(q2)*q1' - l1*sin(q2)*cos(q1)*q2')**2) + (0.0416666666666667*l1**2*m1 + 0.125*m1*r**2)*q2'**2"
      ]
     },
     "execution_count": 6,
     "metadata": {},
     "output_type": "execute_result"
    }
   ],
   "source": [
    "x2 = (l1*sm.cos(q2))*sm.cos(q1)\n",
    "y2 = (l1*sm.cos(q2))*sm.sin(q1)\n",
    "z2 = l0 + l1*sm.sin(q2)\n",
    "x2_d = sm.diff(x2,t)\n",
    "y2_d = sm.diff(y2,t)\n",
    "z2_d = sm.diff(z2,t)\n",
    "I1 = 1/12*m1*(l1**2) + 1/4*m1*(r**2)\n",
    "v2_2 = (x2_d**2)+(y2_d**2)+(z2_d**2)\n",
    "w2 = q2d\n",
    "k1 = 1/2*m1*v2_2 + 1/2*I1*(w2**2)\n",
    "k1"
   ]
  },
  {
   "cell_type": "code",
   "execution_count": 7,
   "metadata": {},
   "outputs": [
    {
     "data": {
      "text/latex": [
       "$\\displaystyle g m_{2} \\left(l_{0} + 0.5 l_{1} \\sin{\\left(q_{2} \\right)}\\right)$"
      ],
      "text/plain": [
       "g*m2*(l0 + 0.5*l1*sin(q2))"
      ]
     },
     "execution_count": 7,
     "metadata": {},
     "output_type": "execute_result"
    }
   ],
   "source": [
    "p1 = (l0+1/2*l1*sm.sin(q2))*m2*g\n",
    "p1"
   ]
  },
  {
   "cell_type": "code",
   "execution_count": 8,
   "metadata": {},
   "outputs": [
    {
     "data": {
      "text/latex": [
       "$\\displaystyle 0.5 m_{3} \\left(\\left(l_{1} \\cos{\\left(q_{2} \\right)} \\dot{q}_{2} + l_{2} \\left(\\dot{q}_{2} + \\dot{q}_{3}\\right) \\cos{\\left(q_{2} + q_{3} \\right)}\\right)^{2} + \\left(- \\left(l_{1} \\cos{\\left(q_{2} \\right)} + l_{2} \\cos{\\left(q_{2} + q_{3} \\right)}\\right) \\sin{\\left(q_{1} \\right)} \\dot{q}_{1} + \\left(- l_{1} \\sin{\\left(q_{2} \\right)} \\dot{q}_{2} - l_{2} \\left(\\dot{q}_{2} + \\dot{q}_{3}\\right) \\sin{\\left(q_{2} + q_{3} \\right)}\\right) \\cos{\\left(q_{1} \\right)}\\right)^{2} + \\left(\\left(l_{1} \\cos{\\left(q_{2} \\right)} + l_{2} \\cos{\\left(q_{2} + q_{3} \\right)}\\right) \\cos{\\left(q_{1} \\right)} \\dot{q}_{1} + \\left(- l_{1} \\sin{\\left(q_{2} \\right)} \\dot{q}_{2} - l_{2} \\left(\\dot{q}_{2} + \\dot{q}_{3}\\right) \\sin{\\left(q_{2} + q_{3} \\right)}\\right) \\sin{\\left(q_{1} \\right)}\\right)^{2}\\right) + \\left(0.0416666666666667 l_{1}^{2} m_{1} + 0.125 m_{1} r^{2}\\right) \\left(\\dot{q}_{2} + \\dot{q}_{3}\\right)^{2}$"
      ],
      "text/plain": [
       "0.5*m3*((l1*cos(q2)*q2' + l2*(q2' + q3')*cos(q2 + q3))**2 + (-(l1*cos(q2) + l2*cos(q2 + q3))*sin(q1)*q1' + (-l1*sin(q2)*q2' - l2*(q2' + q3')*sin(q2 + q3))*cos(q1))**2 + ((l1*cos(q2) + l2*cos(q2 + q3))*cos(q1)*q1' + (-l1*sin(q2)*q2' - l2*(q2' + q3')*sin(q2 + q3))*sin(q1))**2) + (0.0416666666666667*l1**2*m1 + 0.125*m1*r**2)*(q2' + q3')**2"
      ]
     },
     "execution_count": 8,
     "metadata": {},
     "output_type": "execute_result"
    }
   ],
   "source": [
    "x3 = (l1*sm.cos(q2)+l2*sm.cos(q2+q3))*sm.cos(q1)\n",
    "y3 = (l1*sm.cos(q2)+l2*sm.cos(q2+q3))*sm.sin(q1)\n",
    "z3 = l0 + l1*sm.sin(q2) + l2*sm.sin(q2+q3)\n",
    "x3_d = sm.diff(x3,t)\n",
    "y3_d = sm.diff(y3,t)\n",
    "z3_d = sm.diff(z3,t)\n",
    "I3 = 1/12*m3*(l2**2) + 1/4*m3*(r**2)\n",
    "v3_2 = (x3_d**2)+(y3_d**2)+(z3_d**2)\n",
    "w3 = q2d+q3d\n",
    "k2 = 1/2*m3*v3_2 + 1/2*I1*(w3**2)\n",
    "k2"
   ]
  },
  {
   "cell_type": "code",
   "execution_count": 9,
   "metadata": {},
   "outputs": [
    {
     "data": {
      "text/latex": [
       "$\\displaystyle g m_{2} \\left(l_{0} + l_{1} \\sin{\\left(q_{2} \\right)} + 0.5 l_{2} \\sin{\\left(q_{2} + q_{3} \\right)}\\right)$"
      ],
      "text/plain": [
       "g*m2*(l0 + l1*sin(q2) + 0.5*l2*sin(q2 + q3))"
      ]
     },
     "execution_count": 9,
     "metadata": {},
     "output_type": "execute_result"
    }
   ],
   "source": [
    "p2 = (l0+l1*sm.sin(q2)+1/2*l2*sm.sin(q2+q3))*m2*g\n",
    "p2"
   ]
  },
  {
   "cell_type": "code",
   "execution_count": 10,
   "metadata": {},
   "outputs": [
    {
     "data": {
      "text/latex": [
       "$\\displaystyle - 0.5 g l_{0} m_{1} - g m_{2} \\left(l_{0} + 0.5 l_{1} \\sin{\\left(q_{2} \\right)}\\right) - g m_{2} \\left(l_{0} + l_{1} \\sin{\\left(q_{2} \\right)} + 0.5 l_{2} \\sin{\\left(q_{2} + q_{3} \\right)}\\right) + 0.25 m_{1} r^{2} \\dot{q}_{1}^{2} + 0.5 m_{1} \\left(l_{1}^{2} \\cos^{2}{\\left(q_{2} \\right)} \\dot{q}_{2}^{2} + \\left(- l_{1} \\sin{\\left(q_{1} \\right)} \\sin{\\left(q_{2} \\right)} \\dot{q}_{2} + l_{1} \\cos{\\left(q_{1} \\right)} \\cos{\\left(q_{2} \\right)} \\dot{q}_{1}\\right)^{2} + \\left(- l_{1} \\sin{\\left(q_{1} \\right)} \\cos{\\left(q_{2} \\right)} \\dot{q}_{1} - l_{1} \\sin{\\left(q_{2} \\right)} \\cos{\\left(q_{1} \\right)} \\dot{q}_{2}\\right)^{2}\\right) + 0.5 m_{3} \\left(\\left(l_{1} \\cos{\\left(q_{2} \\right)} \\dot{q}_{2} + l_{2} \\left(\\dot{q}_{2} + \\dot{q}_{3}\\right) \\cos{\\left(q_{2} + q_{3} \\right)}\\right)^{2} + \\left(- \\left(l_{1} \\cos{\\left(q_{2} \\right)} + l_{2} \\cos{\\left(q_{2} + q_{3} \\right)}\\right) \\sin{\\left(q_{1} \\right)} \\dot{q}_{1} + \\left(- l_{1} \\sin{\\left(q_{2} \\right)} \\dot{q}_{2} - l_{2} \\left(\\dot{q}_{2} + \\dot{q}_{3}\\right) \\sin{\\left(q_{2} + q_{3} \\right)}\\right) \\cos{\\left(q_{1} \\right)}\\right)^{2} + \\left(\\left(l_{1} \\cos{\\left(q_{2} \\right)} + l_{2} \\cos{\\left(q_{2} + q_{3} \\right)}\\right) \\cos{\\left(q_{1} \\right)} \\dot{q}_{1} + \\left(- l_{1} \\sin{\\left(q_{2} \\right)} \\dot{q}_{2} - l_{2} \\left(\\dot{q}_{2} + \\dot{q}_{3}\\right) \\sin{\\left(q_{2} + q_{3} \\right)}\\right) \\sin{\\left(q_{1} \\right)}\\right)^{2}\\right) + \\left(0.0416666666666667 l_{1}^{2} m_{1} + 0.125 m_{1} r^{2}\\right) \\left(\\dot{q}_{2} + \\dot{q}_{3}\\right)^{2} + \\left(0.0416666666666667 l_{1}^{2} m_{1} + 0.125 m_{1} r^{2}\\right) \\dot{q}_{2}^{2}$"
      ],
      "text/plain": [
       "-0.5*g*l0*m1 - g*m2*(l0 + 0.5*l1*sin(q2)) - g*m2*(l0 + l1*sin(q2) + 0.5*l2*sin(q2 + q3)) + 0.25*m1*r**2*q1'**2 + 0.5*m1*(l1**2*cos(q2)**2*q2'**2 + (-l1*sin(q1)*sin(q2)*q2' + l1*cos(q1)*cos(q2)*q1')**2 + (-l1*sin(q1)*cos(q2)*q1' - l1*sin(q2)*cos(q1)*q2')**2) + 0.5*m3*((l1*cos(q2)*q2' + l2*(q2' + q3')*cos(q2 + q3))**2 + (-(l1*cos(q2) + l2*cos(q2 + q3))*sin(q1)*q1' + (-l1*sin(q2)*q2' - l2*(q2' + q3')*sin(q2 + q3))*cos(q1))**2 + ((l1*cos(q2) + l2*cos(q2 + q3))*cos(q1)*q1' + (-l1*sin(q2)*q2' - l2*(q2' + q3')*sin(q2 + q3))*sin(q1))**2) + (0.0416666666666667*l1**2*m1 + 0.125*m1*r**2)*(q2' + q3')**2 + (0.0416666666666667*l1**2*m1 + 0.125*m1*r**2)*q2'**2"
      ]
     },
     "execution_count": 10,
     "metadata": {},
     "output_type": "execute_result"
    }
   ],
   "source": [
    "L = k0+k1+k2-p0-p1-p2\n",
    "L"
   ]
  },
  {
   "cell_type": "code",
   "execution_count": 11,
   "metadata": {},
   "outputs": [],
   "source": [
    "f1 = sm.diff(sm.diff(L,q1d),t) - sm.diff(L,q1)\n",
    "f2 = sm.diff(sm.diff(L,q2d),t) - sm.diff(L,q2)\n",
    "f3 = sm.diff(sm.diff(L,q3d),t) - sm.diff(L,q3)\n",
    "f1sim = sm.expand(sm.simplify(f1))\n",
    "f2sim = sm.expand(sm.simplify(f2))\n",
    "f3sim = sm.expand(sm.simplify(f3))"
   ]
  },
  {
   "cell_type": "code",
   "execution_count": 12,
   "metadata": {},
   "outputs": [
    {
     "data": {
      "text/latex": [
       "$\\displaystyle \\left[\\begin{matrix}0.5 l_{1}^{2} m_{1} \\cos{\\left(2 q_{2} \\right)} + 0.5 l_{1}^{2} m_{1} + 0.5 l_{1}^{2} m_{3} \\cos{\\left(2 q_{2} \\right)} + 0.5 l_{1}^{2} m_{3} + 1.0 l_{1} l_{2} m_{3} \\cos{\\left(2 q_{2} + q_{3} \\right)} + 1.0 l_{1} l_{2} m_{3} \\cos{\\left(q_{3} \\right)} + 0.5 l_{2}^{2} m_{3} \\cos{\\left(2 q_{2} + 2 q_{3} \\right)} + 0.5 l_{2}^{2} m_{3} + 0.5 m_{1} r^{2} & 0 & 0\\\\0 & 1.16666666666667 l_{1}^{2} m_{1} + 1.0 l_{1}^{2} m_{3} + 2.0 l_{1} l_{2} m_{3} \\cos{\\left(q_{3} \\right)} + 1.0 l_{2}^{2} m_{3} + 0.5 m_{1} r^{2} & 0.0833333333333333 l_{1}^{2} m_{1} + 1.0 l_{1} l_{2} m_{3} \\cos{\\left(q_{3} \\right)} + 1.0 l_{2}^{2} m_{3} + 0.25 m_{1} r^{2}\\\\0 & 0.0833333333333333 l_{1}^{2} m_{1} + 1.0 l_{1} l_{2} m_{3} \\cos{\\left(q_{3} \\right)} + 1.0 l_{2}^{2} m_{3} + 0.25 m_{1} r^{2} & 0.0833333333333333 l_{1}^{2} m_{1} + 1.0 l_{2}^{2} m_{3} + 0.25 m_{1} r^{2}\\end{matrix}\\right]$"
      ],
      "text/plain": [
       "Matrix([\n",
       "[0.5*l1**2*m1*cos(2*q2) + 0.5*l1**2*m1 + 0.5*l1**2*m3*cos(2*q2) + 0.5*l1**2*m3 + 1.0*l1*l2*m3*cos(2*q2 + q3) + 1.0*l1*l2*m3*cos(q3) + 0.5*l2**2*m3*cos(2*q2 + 2*q3) + 0.5*l2**2*m3 + 0.5*m1*r**2,                                                                                            0,                                                                                0],\n",
       "[                                                                                                                                                                                              0, 1.16666666666667*l1**2*m1 + 1.0*l1**2*m3 + 2.0*l1*l2*m3*cos(q3) + 1.0*l2**2*m3 + 0.5*m1*r**2, 0.0833333333333333*l1**2*m1 + 1.0*l1*l2*m3*cos(q3) + 1.0*l2**2*m3 + 0.25*m1*r**2],\n",
       "[                                                                                                                                                                                              0,             0.0833333333333333*l1**2*m1 + 1.0*l1*l2*m3*cos(q3) + 1.0*l2**2*m3 + 0.25*m1*r**2,                        0.0833333333333333*l1**2*m1 + 1.0*l2**2*m3 + 0.25*m1*r**2]])"
      ]
     },
     "execution_count": 12,
     "metadata": {},
     "output_type": "execute_result"
    }
   ],
   "source": [
    "#inertia term\n",
    "m11 = f1sim.coeff(q1dd)\n",
    "m12 = f1sim.coeff(q2dd)\n",
    "m13 = f1sim.coeff(q3dd)\n",
    "\n",
    "m21 = f2sim.coeff(q1dd)\n",
    "m22 = f2sim.coeff(q2dd)\n",
    "m23 = f2sim.coeff(q3dd)\n",
    "\n",
    "m31 = f3sim.coeff(q1dd)\n",
    "m32 = f3sim.coeff(q2dd)\n",
    "m33 = f3sim.coeff(q3dd)\n",
    "\n",
    "M = sm.Matrix([[m11, m12, m13], [m21, m22, m23], [m31, m32 ,m33]])\n",
    "M"
   ]
  },
  {
   "cell_type": "code",
   "execution_count": 13,
   "metadata": {},
   "outputs": [
    {
     "data": {
      "text/latex": [
       "$\\displaystyle \\left[\\begin{matrix}\\left(- 1.0 l_{1} l_{2} m_{3} \\sin{\\left(2 q_{2} + q_{3} \\right)} - 1.0 l_{1} l_{2} m_{3} \\sin{\\left(q_{3} \\right)} - 1.0 l_{2}^{2} m_{3} \\sin{\\left(2 q_{2} + 2 q_{3} \\right)}\\right) \\dot{q}_{1} \\dot{q}_{3} + \\left(- 1.0 l_{1}^{2} m_{1} \\sin{\\left(2 q_{2} \\right)} - 1.0 l_{1}^{2} m_{3} \\sin{\\left(2 q_{2} \\right)} - 2.0 l_{1} l_{2} m_{3} \\sin{\\left(2 q_{2} + q_{3} \\right)} - 1.0 l_{2}^{2} m_{3} \\sin{\\left(2 q_{2} + 2 q_{3} \\right)}\\right) \\dot{q}_{1} \\dot{q}_{2}\\\\\\left(1.0 l_{2}^{2} m_{3} \\sin{\\left(q_{2} + q_{3} \\right)} \\cos{\\left(q_{2} - q_{3} \\right)} - 1.0 l_{2}^{2} m_{3} \\sin{\\left(q_{2} \\right)} \\cos{\\left(q_{2} \\right)} - 1.0 l_{2}^{2} m_{3} \\sin{\\left(q_{3} \\right)} \\cos{\\left(q_{3} \\right)}\\right) \\dot{q}_{2}^{2} + \\left(- 2.0 l_{1} l_{2} m_{3} \\sin{\\left(q_{3} \\right)} + 2.0 l_{2}^{2} m_{3} \\sin{\\left(q_{2} + q_{3} \\right)} \\cos{\\left(q_{2} - q_{3} \\right)} - 2.0 l_{2}^{2} m_{3} \\sin{\\left(q_{2} \\right)} \\cos{\\left(q_{2} \\right)} - 2.0 l_{2}^{2} m_{3} \\sin{\\left(q_{3} \\right)} \\cos{\\left(q_{3} \\right)}\\right) \\dot{q}_{2} \\dot{q}_{3} + \\left(- 1.0 l_{1} l_{2} m_{3} \\sin{\\left(q_{3} \\right)} + 1.0 l_{2}^{2} m_{3} \\sin{\\left(q_{2} + q_{3} \\right)} \\cos{\\left(q_{2} - q_{3} \\right)} - 1.0 l_{2}^{2} m_{3} \\sin{\\left(q_{2} \\right)} \\cos{\\left(q_{2} \\right)} - 1.0 l_{2}^{2} m_{3} \\sin{\\left(q_{3} \\right)} \\cos{\\left(q_{3} \\right)}\\right) \\dot{q}_{3}^{2} + \\left(1.0 l_{1}^{2} m_{1} \\sin{\\left(q_{2} \\right)} \\cos{\\left(q_{2} \\right)} + 1.0 l_{1}^{2} m_{3} \\sin{\\left(q_{2} \\right)} \\cos{\\left(q_{2} \\right)} - 2.0 l_{1} l_{2} m_{3} \\sin^{2}{\\left(q_{2} \\right)} \\sin{\\left(q_{3} \\right)} + 2.0 l_{1} l_{2} m_{3} \\sin{\\left(q_{2} \\right)} \\cos{\\left(q_{2} \\right)} \\cos{\\left(q_{3} \\right)} + 1.0 l_{1} l_{2} m_{3} \\sin{\\left(q_{3} \\right)} + 1.0 l_{2}^{2} m_{3} \\sin{\\left(q_{2} + q_{3} \\right)} \\cos{\\left(q_{2} + q_{3} \\right)}\\right) \\dot{q}_{1}^{2}\\\\1.0 l_{1} l_{2} m_{3} \\sin{\\left(q_{3} \\right)} \\dot{q}_{2}^{2} + \\left(0.5 l_{1} l_{2} m_{3} \\sin{\\left(2 q_{2} + q_{3} \\right)} + 0.5 l_{1} l_{2} m_{3} \\sin{\\left(q_{3} \\right)} + 0.5 l_{2}^{2} m_{3} \\sin{\\left(2 q_{2} + 2 q_{3} \\right)}\\right) \\dot{q}_{1}^{2}\\end{matrix}\\right]$"
      ],
      "text/plain": [
       "Matrix([\n",
       "[                                                                                                                                                                                                                                                                                                                                                                                      (-1.0*l1*l2*m3*sin(2*q2 + q3) - 1.0*l1*l2*m3*sin(q3) - 1.0*l2**2*m3*sin(2*q2 + 2*q3))*q1'*q3' + (-1.0*l1**2*m1*sin(2*q2) - 1.0*l1**2*m3*sin(2*q2) - 2.0*l1*l2*m3*sin(2*q2 + q3) - 1.0*l2**2*m3*sin(2*q2 + 2*q3))*q1'*q2'],\n",
       "[(1.0*l2**2*m3*sin(q2 + q3)*cos(q2 - q3) - 1.0*l2**2*m3*sin(q2)*cos(q2) - 1.0*l2**2*m3*sin(q3)*cos(q3))*q2'**2 + (-2.0*l1*l2*m3*sin(q3) + 2.0*l2**2*m3*sin(q2 + q3)*cos(q2 - q3) - 2.0*l2**2*m3*sin(q2)*cos(q2) - 2.0*l2**2*m3*sin(q3)*cos(q3))*q2'*q3' + (-1.0*l1*l2*m3*sin(q3) + 1.0*l2**2*m3*sin(q2 + q3)*cos(q2 - q3) - 1.0*l2**2*m3*sin(q2)*cos(q2) - 1.0*l2**2*m3*sin(q3)*cos(q3))*q3'**2 + (1.0*l1**2*m1*sin(q2)*cos(q2) + 1.0*l1**2*m3*sin(q2)*cos(q2) - 2.0*l1*l2*m3*sin(q2)**2*sin(q3) + 2.0*l1*l2*m3*sin(q2)*cos(q2)*cos(q3) + 1.0*l1*l2*m3*sin(q3) + 1.0*l2**2*m3*sin(q2 + q3)*cos(q2 + q3))*q1'**2],\n",
       "[                                                                                                                                                                                                                                                                                                                                                                                                                                                                                     1.0*l1*l2*m3*sin(q3)*q2'**2 + (0.5*l1*l2*m3*sin(2*q2 + q3) + 0.5*l1*l2*m3*sin(q3) + 0.5*l2**2*m3*sin(2*q2 + 2*q3))*q1'**2]])"
      ]
     },
     "execution_count": 13,
     "metadata": {},
     "output_type": "execute_result"
    }
   ],
   "source": [
    "#centrifugal / Coriolis force term,\n",
    "\n",
    "rows = []\n",
    "coordinates = list(combinations_with_replacement([q1d,q2d,q3d], 2))\n",
    "c_v = [sm.prod(i) for i in coordinates]\n",
    "for f in [f1sim,f2sim,f3sim]:\n",
    "    columns = []\n",
    "    for v in c_v:\n",
    "        columns.append(f.coeff(v)*v)\n",
    "    rows.append(sum(columns))\n",
    "C = sm.Matrix(rows)\n",
    "C"
   ]
  },
  {
   "cell_type": "code",
   "execution_count": 14,
   "metadata": {},
   "outputs": [
    {
     "data": {
      "text/latex": [
       "$\\displaystyle \\left[\\begin{matrix}0\\\\1.5 g l_{1} m_{2} \\cos{\\left(q_{2} \\right)} + 0.5 g l_{2} m_{2} \\cos{\\left(q_{2} + q_{3} \\right)}\\\\0.5 g l_{2} m_{2} \\cos{\\left(q_{2} + q_{3} \\right)}\\end{matrix}\\right]$"
      ],
      "text/plain": [
       "Matrix([\n",
       "[                                             0],\n",
       "[1.5*g*l1*m2*cos(q2) + 0.5*g*l2*m2*cos(q2 + q3)],\n",
       "[                      0.5*g*l2*m2*cos(q2 + q3)]])"
      ]
     },
     "execution_count": 14,
     "metadata": {},
     "output_type": "execute_result"
    }
   ],
   "source": [
    "# gravity term\n",
    "g1 = f1sim - sm.expand(m11*q1dd) - sm.expand(m12*q2dd) - sm.expand(m13*q3dd) - sm.expand(C[0])\n",
    "g2 = f2sim - sm.expand(m21*q1dd) - sm.expand(m22*q2dd) - sm.expand(m23*q3dd) - sm.expand(C[1])\n",
    "g3 = f3sim - sm.expand(m31*q1dd) - sm.expand(m32*q2dd) - sm.expand(m33*q3dd) - sm.expand(C[2])\n",
    "G = sm.Matrix([g1, g2, g3])\n",
    "G"
   ]
  }
 ],
 "metadata": {
  "kernelspec": {
   "display_name": "Python 3.8.9 64-bit",
   "language": "python",
   "name": "python3"
  },
  "language_info": {
   "codemirror_mode": {
    "name": "ipython",
    "version": 3
   },
   "file_extension": ".py",
   "mimetype": "text/x-python",
   "name": "python",
   "nbconvert_exporter": "python",
   "pygments_lexer": "ipython3",
   "version": "3.8.9"
  },
  "orig_nbformat": 4,
  "vscode": {
   "interpreter": {
    "hash": "31f2aee4e71d21fbe5cf8b01ff0e069b9275f58929596ceb00d14d90e3e16cd6"
   }
  }
 },
 "nbformat": 4,
 "nbformat_minor": 2
}
